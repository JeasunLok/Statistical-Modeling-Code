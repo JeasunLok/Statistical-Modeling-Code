{
 "cells": [
  {
   "cell_type": "code",
   "execution_count": 1,
   "metadata": {},
   "outputs": [],
   "source": [
    "import numpy as np\n",
    "from tqdm import tqdm\n",
    "import torch \n",
    "import torch.nn as nn\n",
    "import torch.optim as optim\n",
    "from torch.utils.data import Dataset,DataLoader\n",
    "import time\n",
    "import scipy.io as sio\n",
    "\n",
    "from models.DNN import DNN\n",
    "from utils.Function import *\n",
    "from utils.Load_data import Load_data, Load_data_split\n",
    "from utils.Utils import AverageMeter,goodness_of_fit\n",
    "\n",
    "device= \"cuda\" if torch.cuda.is_available else \"cpu\" \n",
    "device = \"cpu\"\n",
    "time_now = time.localtime()"
   ]
  },
  {
   "cell_type": "code",
   "execution_count": 2,
   "metadata": {},
   "outputs": [],
   "source": [
    "input_size = 8\n",
    "hidden_size1 = 80\n",
    "hidden_size2 = 40\n",
    "output_size = 3\n",
    "n_epoch = 1000\n",
    "batch_size = 16\n",
    "pretrained = False\n",
    "test = False\n",
    "all_test = False\n",
    "residual_save = False\n",
    "model_path = r\"logs/model_state_dict_yrprvcdata_sliced_all_log.mat_1000_2023-05-25-18-21-20.pth\"\n",
    "data_path = r\"./yrprvcdata_sliced_all_log.mat\""
   ]
  },
  {
   "cell_type": "code",
   "execution_count": 3,
   "metadata": {},
   "outputs": [
    {
     "name": "stdout",
     "output_type": "stream",
     "text": [
      "(1000, 8) (223, 8) (1000, 1) (223, 1) (1000, 3) (1000, 3)\n",
      "torch.Size([1000, 8]) torch.Size([1000, 1]) torch.Size([1000, 3])\n",
      "torch.Size([223, 8]) torch.Size([223, 1]) torch.Size([223, 3])\n",
      "torch.Size([223, 8]) torch.Size([223, 1]) torch.Size([223, 3])\n",
      "torch.Size([1223, 8]) torch.Size([1223, 1]) torch.Size([1223, 3])\n"
     ]
    }
   ],
   "source": [
    "Ctrain, Ctest, Rtrain, Rtest, fttrain, fttest = Load_data_split(data_path)\n",
    "print(Ctrain.shape, Ctest.shape, Rtrain.shape, Rtest.shape, fttrain.shape, fttrain.shape)\n",
    "\n",
    "input_train = torch.tensor(Ctrain, dtype=torch.float32)\n",
    "input_val = torch.tensor(Ctest, dtype=torch.float32)\n",
    "input_test = torch.tensor(Ctest, dtype=torch.float32)\n",
    "# input_test = torch.tensor(Ctrain, dtype=torch.float32)\n",
    "input = torch.concat([input_train, input_test])\n",
    "\n",
    "output_train = torch.tensor(Rtrain, dtype=torch.float32)\n",
    "output_val = torch.tensor(Rtest, dtype=torch.float32)\n",
    "output_test = torch.tensor(Rtest, dtype=torch.float32)\n",
    "# output_test = torch.tensor(Rtrain, dtype=torch.float32)\n",
    "output = torch.concat([output_train, output_test])\n",
    "\n",
    "c_train = torch.tensor(fttrain, dtype=torch.float32)\n",
    "c_val = torch.tensor(fttest, dtype=torch.float32)\n",
    "c_test = torch.tensor(fttest, dtype=torch.float32)\n",
    "# c_test = torch.tensor(fttrain, dtype=torch.float32)\n",
    "c = torch.concat([c_train, c_test])\n",
    "\n",
    "\n",
    "print(input_train.shape, output_train.shape, c_train.shape)\n",
    "print(input_val.shape, output_val.shape, c_val.shape)\n",
    "print(input_test.shape, output_test.shape, c_test.shape)\n",
    "print(input.shape, output.shape, c.shape)"
   ]
  },
  {
   "cell_type": "code",
   "execution_count": 4,
   "metadata": {},
   "outputs": [],
   "source": [
    "train_dataset = torch.utils.data.TensorDataset(input_train, output_train, c_train)\n",
    "val_dataset = torch.utils.data.TensorDataset(input_val, output_val, c_val)\n",
    "test_dataset = torch.utils.data.TensorDataset(input_test, output_test, c_test)\n",
    "dataset = torch.utils.data.TensorDataset(input, output, c)\n",
    "\n",
    "train_dataloader = torch.utils.data.DataLoader(train_dataset, batch_size=batch_size, shuffle=True)\n",
    "val_dataloader = torch.utils.data.DataLoader(val_dataset, batch_size=batch_size, shuffle=False)\n",
    "test_dataloader = torch.utils.data.DataLoader(test_dataset, batch_size=batch_size, shuffle=True)\n",
    "dataloader = torch.utils.data.DataLoader(dataset, batch_size=batch_size, shuffle=False)"
   ]
  },
  {
   "cell_type": "code",
   "execution_count": 5,
   "metadata": {},
   "outputs": [],
   "source": [
    "model = DNN(input_size, hidden_size1, hidden_size2, output_size).to(device) #\n",
    "optimizer = torch.optim.Adam(model.parameters(), lr = 0.0001) \n",
    "loss_func = nn.MSELoss()\n",
    "\n",
    "for p in model.parameters():\n",
    "    if p.dim() > 1:\n",
    "        torch.nn.init.xavier_uniform_(p)\n",
    "    else:\n",
    "        torch.nn.init.uniform_(p)\n",
    "\n",
    "if pretrained:\n",
    "    model.load_state_dict(torch.load(model_path))"
   ]
  },
  {
   "cell_type": "code",
   "execution_count": 6,
   "metadata": {},
   "outputs": [
    {
     "name": "stdout",
     "output_type": "stream",
     "text": [
      "====================================================================================================\n"
     ]
    },
    {
     "name": "stderr",
     "output_type": "stream",
     "text": [
      "Train Epoch [0001/1000]: 100%|██████████| 63/63 [00:00<00:00, 235.30it/s, train_loss=102]\n",
      "Train Epoch [0002/1000]: 100%|██████████| 63/63 [00:00<00:00, 284.80it/s, train_loss=55.1]\n",
      "Train Epoch [0003/1000]: 100%|██████████| 63/63 [00:00<00:00, 305.16it/s, train_loss=37.8]\n",
      "Train Epoch [0004/1000]: 100%|██████████| 63/63 [00:00<00:00, 308.06it/s, train_loss=28.8]\n",
      "Train Epoch [0005/1000]: 100%|██████████| 63/63 [00:00<00:00, 276.53it/s, train_loss=23.4]\n",
      "Train Epoch [0006/1000]: 100%|██████████| 63/63 [00:00<00:00, 308.53it/s, train_loss=19.6]\n",
      "Train Epoch [0007/1000]: 100%|██████████| 63/63 [00:00<00:00, 299.90it/s, train_loss=16.9]\n",
      "Train Epoch [0008/1000]: 100%|██████████| 63/63 [00:00<00:00, 301.09it/s, train_loss=14.9]\n",
      "Train Epoch [0009/1000]: 100%|██████████| 63/63 [00:00<00:00, 291.75it/s, train_loss=13.3]\n",
      "Train Epoch [0010/1000]: 100%|██████████| 63/63 [00:00<00:00, 317.93it/s, train_loss=12]  \n",
      "Train Epoch [0011/1000]: 100%|██████████| 63/63 [00:00<00:00, 314.53it/s, train_loss=11]  \n",
      "Train Epoch [0012/1000]: 100%|██████████| 63/63 [00:00<00:00, 297.21it/s, train_loss=10.1]\n",
      "Train Epoch [0013/1000]: 100%|██████████| 63/63 [00:00<00:00, 295.18it/s, train_loss=9.33]\n",
      "Train Epoch [0014/1000]: 100%|██████████| 63/63 [00:00<00:00, 313.72it/s, train_loss=8.69]\n",
      "Train Epoch [0015/1000]: 100%|██████████| 63/63 [00:00<00:00, 284.97it/s, train_loss=8.13]\n",
      "Train Epoch [0016/1000]: 100%|██████████| 63/63 [00:00<00:00, 312.21it/s, train_loss=7.64]\n",
      "Train Epoch [0017/1000]: 100%|██████████| 63/63 [00:00<00:00, 287.53it/s, train_loss=7.21]\n",
      "Train Epoch [0018/1000]: 100%|██████████| 63/63 [00:00<00:00, 290.38it/s, train_loss=6.83]\n",
      "Train Epoch [0019/1000]: 100%|██████████| 63/63 [00:00<00:00, 300.65it/s, train_loss=6.48]\n",
      "Train Epoch [0020/1000]: 100%|██████████| 63/63 [00:00<00:00, 284.65it/s, train_loss=6.17]\n"
     ]
    },
    {
     "name": "stdout",
     "output_type": "stream",
     "text": [
      "====================================================================================================\n",
      "Model Validation:\n"
     ]
    },
    {
     "name": "stderr",
     "output_type": "stream",
     "text": [
      "Val Epoch: 100%|██████████| 14/14 [00:00<00:00, 401.06it/s, val_loss=0.345]\n"
     ]
    },
    {
     "name": "stdout",
     "output_type": "stream",
     "text": [
      "====================================================================================================\n"
     ]
    },
    {
     "name": "stderr",
     "output_type": "stream",
     "text": [
      "Train Epoch [0021/1000]: 100%|██████████| 63/63 [00:00<00:00, 291.50it/s, train_loss=5.89]\n",
      "Train Epoch [0022/1000]: 100%|██████████| 63/63 [00:00<00:00, 295.24it/s, train_loss=5.63]\n",
      "Train Epoch [0023/1000]: 100%|██████████| 63/63 [00:00<00:00, 293.13it/s, train_loss=5.4] \n",
      "Train Epoch [0024/1000]: 100%|██████████| 63/63 [00:00<00:00, 323.28it/s, train_loss=5.18]\n",
      "Train Epoch [0025/1000]: 100%|██████████| 63/63 [00:00<00:00, 288.07it/s, train_loss=4.99]\n",
      "Train Epoch [0026/1000]: 100%|██████████| 63/63 [00:00<00:00, 303.13it/s, train_loss=4.8] \n",
      "Train Epoch [0027/1000]: 100%|██████████| 63/63 [00:00<00:00, 290.11it/s, train_loss=4.63]\n",
      "Train Epoch [0028/1000]: 100%|██████████| 63/63 [00:00<00:00, 310.59it/s, train_loss=4.47]\n",
      "Train Epoch [0029/1000]: 100%|██████████| 63/63 [00:00<00:00, 299.74it/s, train_loss=4.33]\n",
      "Train Epoch [0030/1000]: 100%|██████████| 63/63 [00:00<00:00, 291.43it/s, train_loss=4.19]\n",
      "Train Epoch [0031/1000]: 100%|██████████| 63/63 [00:00<00:00, 302.60it/s, train_loss=4.06]\n",
      "Train Epoch [0032/1000]: 100%|██████████| 63/63 [00:00<00:00, 301.70it/s, train_loss=3.94]\n",
      "Train Epoch [0033/1000]: 100%|██████████| 63/63 [00:00<00:00, 303.38it/s, train_loss=3.83]\n",
      "Train Epoch [0034/1000]: 100%|██████████| 63/63 [00:00<00:00, 314.44it/s, train_loss=3.72]\n",
      "Train Epoch [0035/1000]: 100%|██████████| 63/63 [00:00<00:00, 290.60it/s, train_loss=3.62]\n",
      "Train Epoch [0036/1000]: 100%|██████████| 63/63 [00:00<00:00, 304.05it/s, train_loss=3.52]\n",
      "Train Epoch [0037/1000]: 100%|██████████| 63/63 [00:00<00:00, 307.86it/s, train_loss=3.43]\n",
      "Train Epoch [0038/1000]: 100%|██████████| 63/63 [00:00<00:00, 291.80it/s, train_loss=3.34]\n",
      "Train Epoch [0039/1000]: 100%|██████████| 63/63 [00:00<00:00, 283.46it/s, train_loss=3.26]\n",
      "Train Epoch [0040/1000]: 100%|██████████| 63/63 [00:00<00:00, 304.87it/s, train_loss=3.19]\n"
     ]
    },
    {
     "name": "stdout",
     "output_type": "stream",
     "text": [
      "====================================================================================================\n",
      "Model Validation:\n"
     ]
    },
    {
     "name": "stderr",
     "output_type": "stream",
     "text": [
      "Val Epoch: 100%|██████████| 14/14 [00:00<00:00, 426.42it/s, val_loss=0.187]\n"
     ]
    },
    {
     "name": "stdout",
     "output_type": "stream",
     "text": [
      "====================================================================================================\n"
     ]
    },
    {
     "name": "stderr",
     "output_type": "stream",
     "text": [
      "Train Epoch [0041/1000]: 100%|██████████| 63/63 [00:00<00:00, 290.08it/s, train_loss=3.11]\n",
      "Train Epoch [0042/1000]: 100%|██████████| 63/63 [00:00<00:00, 319.85it/s, train_loss=3.04]\n",
      "Train Epoch [0043/1000]: 100%|██████████| 63/63 [00:00<00:00, 291.01it/s, train_loss=2.97]\n",
      "Train Epoch [0044/1000]: 100%|██████████| 63/63 [00:00<00:00, 308.33it/s, train_loss=2.91]\n",
      "Train Epoch [0045/1000]: 100%|██████████| 63/63 [00:00<00:00, 303.48it/s, train_loss=2.85]\n",
      "Train Epoch [0046/1000]: 100%|██████████| 63/63 [00:00<00:00, 292.59it/s, train_loss=2.79]\n",
      "Train Epoch [0047/1000]: 100%|██████████| 63/63 [00:00<00:00, 295.88it/s, train_loss=2.73]\n",
      "Train Epoch [0048/1000]: 100%|██████████| 63/63 [00:00<00:00, 286.60it/s, train_loss=2.68]\n",
      "Train Epoch [0049/1000]: 100%|██████████| 63/63 [00:00<00:00, 305.59it/s, train_loss=2.63]\n",
      "Train Epoch [0050/1000]: 100%|██████████| 63/63 [00:00<00:00, 305.49it/s, train_loss=2.58]\n",
      "Train Epoch [0051/1000]: 100%|██████████| 63/63 [00:00<00:00, 315.80it/s, train_loss=2.53]\n",
      "Train Epoch [0052/1000]: 100%|██████████| 63/63 [00:00<00:00, 305.76it/s, train_loss=2.48]\n",
      "Train Epoch [0053/1000]: 100%|██████████| 63/63 [00:00<00:00, 274.42it/s, train_loss=2.44]\n",
      "Train Epoch [0054/1000]: 100%|██████████| 63/63 [00:00<00:00, 306.12it/s, train_loss=2.4] \n",
      "Train Epoch [0055/1000]: 100%|██████████| 63/63 [00:00<00:00, 292.77it/s, train_loss=2.35]\n",
      "Train Epoch [0056/1000]: 100%|██████████| 63/63 [00:00<00:00, 308.93it/s, train_loss=2.32]\n",
      "Train Epoch [0057/1000]: 100%|██████████| 63/63 [00:00<00:00, 294.79it/s, train_loss=2.28]\n",
      "Train Epoch [0058/1000]: 100%|██████████| 63/63 [00:00<00:00, 289.86it/s, train_loss=2.24]\n",
      "Train Epoch [0059/1000]: 100%|██████████| 63/63 [00:00<00:00, 305.47it/s, train_loss=2.2] \n",
      "Train Epoch [0060/1000]: 100%|██████████| 63/63 [00:00<00:00, 287.96it/s, train_loss=2.17]\n"
     ]
    },
    {
     "name": "stdout",
     "output_type": "stream",
     "text": [
      "====================================================================================================\n",
      "Model Validation:\n"
     ]
    },
    {
     "name": "stderr",
     "output_type": "stream",
     "text": [
      "Val Epoch: 100%|██████████| 14/14 [00:00<00:00, 412.86it/s, val_loss=0.135]\n"
     ]
    },
    {
     "name": "stdout",
     "output_type": "stream",
     "text": [
      "====================================================================================================\n"
     ]
    },
    {
     "name": "stderr",
     "output_type": "stream",
     "text": [
      "Train Epoch [0061/1000]: 100%|██████████| 63/63 [00:00<00:00, 308.77it/s, train_loss=2.14]\n",
      "Train Epoch [0062/1000]: 100%|██████████| 63/63 [00:00<00:00, 287.61it/s, train_loss=2.1] \n",
      "Train Epoch [0063/1000]: 100%|██████████| 63/63 [00:00<00:00, 304.94it/s, train_loss=2.07]\n",
      "Train Epoch [0064/1000]: 100%|██████████| 63/63 [00:00<00:00, 292.81it/s, train_loss=2.04]\n",
      "Train Epoch [0065/1000]: 100%|██████████| 63/63 [00:00<00:00, 288.14it/s, train_loss=2.01]\n",
      "Train Epoch [0066/1000]: 100%|██████████| 63/63 [00:00<00:00, 300.59it/s, train_loss=1.98]\n",
      "Train Epoch [0067/1000]: 100%|██████████| 63/63 [00:00<00:00, 292.89it/s, train_loss=1.95]\n",
      "Train Epoch [0068/1000]: 100%|██████████| 63/63 [00:00<00:00, 301.44it/s, train_loss=1.93]\n",
      "Train Epoch [0069/1000]: 100%|██████████| 63/63 [00:00<00:00, 310.70it/s, train_loss=1.9] \n",
      "Train Epoch [0070/1000]: 100%|██████████| 63/63 [00:00<00:00, 310.37it/s, train_loss=1.88]\n",
      "Train Epoch [0071/1000]: 100%|██████████| 63/63 [00:00<00:00, 291.16it/s, train_loss=1.85]\n",
      "Train Epoch [0072/1000]: 100%|██████████| 63/63 [00:00<00:00, 298.20it/s, train_loss=1.83]\n",
      "Train Epoch [0073/1000]: 100%|██████████| 63/63 [00:00<00:00, 279.80it/s, train_loss=1.8] \n",
      "Train Epoch [0074/1000]: 100%|██████████| 63/63 [00:00<00:00, 293.69it/s, train_loss=1.78]\n",
      "Train Epoch [0075/1000]: 100%|██████████| 63/63 [00:00<00:00, 304.24it/s, train_loss=1.76]\n",
      "Train Epoch [0076/1000]: 100%|██████████| 63/63 [00:00<00:00, 299.63it/s, train_loss=1.74]\n",
      "Train Epoch [0077/1000]: 100%|██████████| 63/63 [00:00<00:00, 278.07it/s, train_loss=1.71]\n",
      "Train Epoch [0078/1000]: 100%|██████████| 63/63 [00:00<00:00, 296.92it/s, train_loss=1.69]\n",
      "Train Epoch [0079/1000]: 100%|██████████| 63/63 [00:00<00:00, 293.04it/s, train_loss=1.67]\n",
      "Train Epoch [0080/1000]: 100%|██████████| 63/63 [00:00<00:00, 298.37it/s, train_loss=1.65]\n"
     ]
    },
    {
     "name": "stdout",
     "output_type": "stream",
     "text": [
      "====================================================================================================\n",
      "Model Validation:\n"
     ]
    },
    {
     "name": "stderr",
     "output_type": "stream",
     "text": [
      "Val Epoch: 100%|██████████| 14/14 [00:00<00:00, 438.68it/s, val_loss=0.106]\n"
     ]
    },
    {
     "name": "stdout",
     "output_type": "stream",
     "text": [
      "====================================================================================================\n"
     ]
    },
    {
     "name": "stderr",
     "output_type": "stream",
     "text": [
      "Train Epoch [0081/1000]: 100%|██████████| 63/63 [00:00<00:00, 307.31it/s, train_loss=1.63]\n",
      "Train Epoch [0082/1000]: 100%|██████████| 63/63 [00:00<00:00, 280.00it/s, train_loss=1.62]\n",
      "Train Epoch [0083/1000]: 100%|██████████| 63/63 [00:00<00:00, 311.53it/s, train_loss=1.6] \n",
      "Train Epoch [0084/1000]: 100%|██████████| 63/63 [00:00<00:00, 291.75it/s, train_loss=1.58]\n",
      "Train Epoch [0085/1000]: 100%|██████████| 63/63 [00:00<00:00, 289.82it/s, train_loss=1.56]\n",
      "Train Epoch [0086/1000]: 100%|██████████| 63/63 [00:00<00:00, 299.49it/s, train_loss=1.55]\n",
      "Train Epoch [0087/1000]: 100%|██████████| 63/63 [00:00<00:00, 305.51it/s, train_loss=1.53]\n",
      "Train Epoch [0088/1000]: 100%|██████████| 63/63 [00:00<00:00, 294.82it/s, train_loss=1.51]\n",
      "Train Epoch [0089/1000]: 100%|██████████| 63/63 [00:00<00:00, 305.81it/s, train_loss=1.5]\n",
      "Train Epoch [0090/1000]: 100%|██████████| 63/63 [00:00<00:00, 310.65it/s, train_loss=1.48]\n",
      "Train Epoch [0091/1000]: 100%|██████████| 63/63 [00:00<00:00, 297.09it/s, train_loss=1.47]\n",
      "Train Epoch [0092/1000]: 100%|██████████| 63/63 [00:00<00:00, 272.30it/s, train_loss=1.45]\n",
      "Train Epoch [0093/1000]: 100%|██████████| 63/63 [00:00<00:00, 300.35it/s, train_loss=1.44]\n",
      "Train Epoch [0094/1000]: 100%|██████████| 63/63 [00:00<00:00, 284.22it/s, train_loss=1.42]\n",
      "Train Epoch [0095/1000]: 100%|██████████| 63/63 [00:00<00:00, 280.47it/s, train_loss=1.41]\n",
      "Train Epoch [0096/1000]: 100%|██████████| 63/63 [00:00<00:00, 291.38it/s, train_loss=1.39]\n",
      "Train Epoch [0097/1000]: 100%|██████████| 63/63 [00:00<00:00, 292.74it/s, train_loss=1.38]\n",
      "Train Epoch [0098/1000]: 100%|██████████| 63/63 [00:00<00:00, 284.15it/s, train_loss=1.37]\n",
      "Train Epoch [0099/1000]: 100%|██████████| 63/63 [00:00<00:00, 274.49it/s, train_loss=1.35]\n",
      "Train Epoch [0100/1000]: 100%|██████████| 63/63 [00:00<00:00, 308.18it/s, train_loss=1.34]\n"
     ]
    },
    {
     "name": "stdout",
     "output_type": "stream",
     "text": [
      "====================================================================================================\n",
      "Model Validation:\n"
     ]
    },
    {
     "name": "stderr",
     "output_type": "stream",
     "text": [
      "Val Epoch: 100%|██████████| 14/14 [00:00<00:00, 389.94it/s, val_loss=0.0962]\n"
     ]
    },
    {
     "name": "stdout",
     "output_type": "stream",
     "text": [
      "====================================================================================================\n"
     ]
    },
    {
     "name": "stderr",
     "output_type": "stream",
     "text": [
      "Train Epoch [0101/1000]: 100%|██████████| 63/63 [00:00<00:00, 286.01it/s, train_loss=1.33]\n",
      "Train Epoch [0102/1000]: 100%|██████████| 63/63 [00:00<00:00, 288.31it/s, train_loss=1.32]\n",
      "Train Epoch [0103/1000]: 100%|██████████| 63/63 [00:00<00:00, 305.71it/s, train_loss=1.3] \n",
      "Train Epoch [0104/1000]: 100%|██████████| 63/63 [00:00<00:00, 282.06it/s, train_loss=1.29]\n",
      "Train Epoch [0105/1000]: 100%|██████████| 63/63 [00:00<00:00, 265.37it/s, train_loss=1.28]\n",
      "Train Epoch [0106/1000]: 100%|██████████| 63/63 [00:00<00:00, 308.88it/s, train_loss=1.27]\n",
      "Train Epoch [0107/1000]: 100%|██████████| 63/63 [00:00<00:00, 278.45it/s, train_loss=1.26]\n",
      "Train Epoch [0108/1000]: 100%|██████████| 63/63 [00:00<00:00, 298.32it/s, train_loss=1.25]\n",
      "Train Epoch [0109/1000]: 100%|██████████| 63/63 [00:00<00:00, 291.11it/s, train_loss=1.24]\n",
      "Train Epoch [0110/1000]: 100%|██████████| 63/63 [00:00<00:00, 318.75it/s, train_loss=1.23]\n",
      "Train Epoch [0111/1000]: 100%|██████████| 63/63 [00:00<00:00, 292.70it/s, train_loss=1.21]\n",
      "Train Epoch [0112/1000]: 100%|██████████| 63/63 [00:00<00:00, 260.92it/s, train_loss=1.2] \n",
      "Train Epoch [0113/1000]: 100%|██████████| 63/63 [00:00<00:00, 294.32it/s, train_loss=1.19]\n",
      "Train Epoch [0114/1000]: 100%|██████████| 63/63 [00:00<00:00, 296.70it/s, train_loss=1.18]\n",
      "Train Epoch [0115/1000]: 100%|██████████| 63/63 [00:00<00:00, 293.08it/s, train_loss=1.17]\n",
      "Train Epoch [0116/1000]: 100%|██████████| 63/63 [00:00<00:00, 287.31it/s, train_loss=1.17]\n",
      "Train Epoch [0117/1000]: 100%|██████████| 63/63 [00:00<00:00, 313.82it/s, train_loss=1.16]\n",
      "Train Epoch [0118/1000]: 100%|██████████| 63/63 [00:00<00:00, 283.60it/s, train_loss=1.15]\n",
      "Train Epoch [0119/1000]: 100%|██████████| 63/63 [00:00<00:00, 288.84it/s, train_loss=1.14]\n",
      "Train Epoch [0120/1000]: 100%|██████████| 63/63 [00:00<00:00, 299.01it/s, train_loss=1.13]\n"
     ]
    },
    {
     "name": "stdout",
     "output_type": "stream",
     "text": [
      "====================================================================================================\n",
      "Model Validation:\n"
     ]
    },
    {
     "name": "stderr",
     "output_type": "stream",
     "text": [
      "Val Epoch: 100%|██████████| 14/14 [00:00<00:00, 431.58it/s, val_loss=0.0688]\n"
     ]
    },
    {
     "name": "stdout",
     "output_type": "stream",
     "text": [
      "====================================================================================================\n"
     ]
    },
    {
     "name": "stderr",
     "output_type": "stream",
     "text": [
      "Train Epoch [0121/1000]: 100%|██████████| 63/63 [00:00<00:00, 295.52it/s, train_loss=1.12]\n",
      "Train Epoch [0122/1000]: 100%|██████████| 63/63 [00:00<00:00, 286.77it/s, train_loss=1.11]\n",
      "Train Epoch [0123/1000]: 100%|██████████| 63/63 [00:00<00:00, 288.94it/s, train_loss=1.1] \n",
      "Train Epoch [0124/1000]: 100%|██████████| 63/63 [00:00<00:00, 282.25it/s, train_loss=1.09]\n",
      "Train Epoch [0125/1000]: 100%|██████████| 63/63 [00:00<00:00, 298.69it/s, train_loss=1.09]\n",
      "Train Epoch [0126/1000]: 100%|██████████| 63/63 [00:00<00:00, 300.02it/s, train_loss=1.08]\n",
      "Train Epoch [0127/1000]: 100%|██████████| 63/63 [00:00<00:00, 293.10it/s, train_loss=1.07]\n",
      "Train Epoch [0128/1000]: 100%|██████████| 63/63 [00:00<00:00, 286.73it/s, train_loss=1.06]\n",
      "Train Epoch [0129/1000]: 100%|██████████| 63/63 [00:00<00:00, 321.66it/s, train_loss=1.05]\n",
      "Train Epoch [0130/1000]: 100%|██████████| 63/63 [00:00<00:00, 248.62it/s, train_loss=1.05]\n",
      "Train Epoch [0131/1000]: 100%|██████████| 63/63 [00:00<00:00, 296.77it/s, train_loss=1.04]\n",
      "Train Epoch [0132/1000]: 100%|██████████| 63/63 [00:00<00:00, 283.17it/s, train_loss=1.03]\n",
      "Train Epoch [0133/1000]: 100%|██████████| 63/63 [00:00<00:00, 313.70it/s, train_loss=1.02]\n",
      "Train Epoch [0134/1000]: 100%|██████████| 63/63 [00:00<00:00, 275.90it/s, train_loss=1.02]\n",
      "Train Epoch [0135/1000]: 100%|██████████| 63/63 [00:00<00:00, 279.70it/s, train_loss=1.01]\n",
      "Train Epoch [0136/1000]: 100%|██████████| 63/63 [00:00<00:00, 308.43it/s, train_loss=1]   \n",
      "Train Epoch [0137/1000]: 100%|██████████| 63/63 [00:00<00:00, 308.74it/s, train_loss=0.995]\n",
      "Train Epoch [0138/1000]: 100%|██████████| 63/63 [00:00<00:00, 274.37it/s, train_loss=0.988]\n",
      "Train Epoch [0139/1000]: 100%|██████████| 63/63 [00:00<00:00, 286.59it/s, train_loss=0.981]\n",
      "Train Epoch [0140/1000]: 100%|██████████| 63/63 [00:00<00:00, 277.44it/s, train_loss=0.975]\n"
     ]
    },
    {
     "name": "stdout",
     "output_type": "stream",
     "text": [
      "====================================================================================================\n",
      "Model Validation:\n"
     ]
    },
    {
     "name": "stderr",
     "output_type": "stream",
     "text": [
      "Val Epoch: 100%|██████████| 14/14 [00:00<00:00, 425.39it/s, val_loss=0.092]\n"
     ]
    },
    {
     "name": "stdout",
     "output_type": "stream",
     "text": [
      "====================================================================================================\n"
     ]
    },
    {
     "name": "stderr",
     "output_type": "stream",
     "text": [
      "Train Epoch [0141/1000]: 100%|██████████| 63/63 [00:00<00:00, 310.00it/s, train_loss=0.968]\n",
      "Train Epoch [0142/1000]: 100%|██████████| 63/63 [00:00<00:00, 283.91it/s, train_loss=0.962]\n",
      "Train Epoch [0143/1000]: 100%|██████████| 63/63 [00:00<00:00, 292.97it/s, train_loss=0.955]\n",
      "Train Epoch [0144/1000]: 100%|██████████| 63/63 [00:00<00:00, 303.28it/s, train_loss=0.949]\n",
      "Train Epoch [0145/1000]: 100%|██████████| 63/63 [00:00<00:00, 313.43it/s, train_loss=0.943]\n",
      "Train Epoch [0146/1000]: 100%|██████████| 63/63 [00:00<00:00, 289.38it/s, train_loss=0.937]\n",
      "Train Epoch [0147/1000]: 100%|██████████| 63/63 [00:00<00:00, 282.87it/s, train_loss=0.931]\n",
      "Train Epoch [0148/1000]: 100%|██████████| 63/63 [00:00<00:00, 304.64it/s, train_loss=0.925]\n",
      "Train Epoch [0149/1000]: 100%|██████████| 63/63 [00:00<00:00, 275.81it/s, train_loss=0.919]\n",
      "Train Epoch [0150/1000]: 100%|██████████| 63/63 [00:00<00:00, 315.57it/s, train_loss=0.913]\n",
      "Train Epoch [0151/1000]: 100%|██████████| 63/63 [00:00<00:00, 291.88it/s, train_loss=0.907]\n",
      "Train Epoch [0152/1000]: 100%|██████████| 63/63 [00:00<00:00, 286.26it/s, train_loss=0.901]\n",
      "Train Epoch [0153/1000]: 100%|██████████| 63/63 [00:00<00:00, 291.90it/s, train_loss=0.896]\n",
      "Train Epoch [0154/1000]: 100%|██████████| 63/63 [00:00<00:00, 308.48it/s, train_loss=0.89] \n",
      "Train Epoch [0155/1000]: 100%|██████████| 63/63 [00:00<00:00, 295.58it/s, train_loss=0.885]\n",
      "Train Epoch [0156/1000]: 100%|██████████| 63/63 [00:00<00:00, 288.76it/s, train_loss=0.879]\n",
      "Train Epoch [0157/1000]: 100%|██████████| 63/63 [00:00<00:00, 298.10it/s, train_loss=0.874]\n",
      "Train Epoch [0158/1000]: 100%|██████████| 63/63 [00:00<00:00, 299.72it/s, train_loss=0.869]\n",
      "Train Epoch [0159/1000]: 100%|██████████| 63/63 [00:00<00:00, 281.36it/s, train_loss=0.863]\n",
      "Train Epoch [0160/1000]: 100%|██████████| 63/63 [00:00<00:00, 291.08it/s, train_loss=0.858]\n"
     ]
    },
    {
     "name": "stdout",
     "output_type": "stream",
     "text": [
      "====================================================================================================\n",
      "Model Validation:\n"
     ]
    },
    {
     "name": "stderr",
     "output_type": "stream",
     "text": [
      "Val Epoch: 100%|██████████| 14/14 [00:00<00:00, 409.58it/s, val_loss=0.0568]\n"
     ]
    },
    {
     "name": "stdout",
     "output_type": "stream",
     "text": [
      "====================================================================================================\n"
     ]
    },
    {
     "name": "stderr",
     "output_type": "stream",
     "text": [
      "Train Epoch [0161/1000]: 100%|██████████| 63/63 [00:00<00:00, 280.20it/s, train_loss=0.853]\n",
      "Train Epoch [0162/1000]: 100%|██████████| 63/63 [00:00<00:00, 303.26it/s, train_loss=0.848]\n",
      "Train Epoch [0163/1000]: 100%|██████████| 63/63 [00:00<00:00, 300.49it/s, train_loss=0.843]\n",
      "Train Epoch [0164/1000]: 100%|██████████| 63/63 [00:00<00:00, 282.29it/s, train_loss=0.838]\n",
      "Train Epoch [0165/1000]: 100%|██████████| 63/63 [00:00<00:00, 273.96it/s, train_loss=0.834]\n",
      "Train Epoch [0166/1000]: 100%|██████████| 63/63 [00:00<00:00, 305.31it/s, train_loss=0.829]\n",
      "Train Epoch [0167/1000]: 100%|██████████| 63/63 [00:00<00:00, 281.97it/s, train_loss=0.824]\n",
      "Train Epoch [0168/1000]: 100%|██████████| 63/63 [00:00<00:00, 279.03it/s, train_loss=0.819]\n",
      "Train Epoch [0169/1000]: 100%|██████████| 63/63 [00:00<00:00, 295.24it/s, train_loss=0.815]\n",
      "Train Epoch [0170/1000]: 100%|██████████| 63/63 [00:00<00:00, 301.71it/s, train_loss=0.81] \n",
      "Train Epoch [0171/1000]: 100%|██████████| 63/63 [00:00<00:00, 288.78it/s, train_loss=0.806]\n",
      "Train Epoch [0172/1000]: 100%|██████████| 63/63 [00:00<00:00, 310.44it/s, train_loss=0.801]\n",
      "Train Epoch [0173/1000]: 100%|██████████| 63/63 [00:00<00:00, 317.28it/s, train_loss=0.797]\n",
      "Train Epoch [0174/1000]: 100%|██████████| 63/63 [00:00<00:00, 296.26it/s, train_loss=0.792]\n",
      "Train Epoch [0175/1000]: 100%|██████████| 63/63 [00:00<00:00, 285.78it/s, train_loss=0.788]\n",
      "Train Epoch [0176/1000]: 100%|██████████| 63/63 [00:00<00:00, 302.69it/s, train_loss=0.784]\n",
      "Train Epoch [0177/1000]: 100%|██████████| 63/63 [00:00<00:00, 282.36it/s, train_loss=0.779]\n",
      "Train Epoch [0178/1000]: 100%|██████████| 63/63 [00:00<00:00, 311.73it/s, train_loss=0.775]\n",
      "Train Epoch [0179/1000]: 100%|██████████| 63/63 [00:00<00:00, 300.26it/s, train_loss=0.771]\n",
      "Train Epoch [0180/1000]: 100%|██████████| 63/63 [00:00<00:00, 276.56it/s, train_loss=0.767]\n"
     ]
    },
    {
     "name": "stdout",
     "output_type": "stream",
     "text": [
      "====================================================================================================\n",
      "Model Validation:\n"
     ]
    },
    {
     "name": "stderr",
     "output_type": "stream",
     "text": [
      "Val Epoch: 100%|██████████| 14/14 [00:00<00:00, 396.64it/s, val_loss=0.0422]\n"
     ]
    },
    {
     "name": "stdout",
     "output_type": "stream",
     "text": [
      "====================================================================================================\n"
     ]
    },
    {
     "name": "stderr",
     "output_type": "stream",
     "text": [
      "Train Epoch [0181/1000]: 100%|██████████| 63/63 [00:00<00:00, 287.23it/s, train_loss=0.763]\n",
      "Train Epoch [0182/1000]: 100%|██████████| 63/63 [00:00<00:00, 303.76it/s, train_loss=0.759]\n",
      "Train Epoch [0183/1000]: 100%|██████████| 63/63 [00:00<00:00, 283.05it/s, train_loss=0.755]\n",
      "Train Epoch [0184/1000]: 100%|██████████| 63/63 [00:00<00:00, 259.21it/s, train_loss=0.751]\n",
      "Train Epoch [0185/1000]: 100%|██████████| 63/63 [00:00<00:00, 264.22it/s, train_loss=0.747]\n",
      "Train Epoch [0186/1000]: 100%|██████████| 63/63 [00:00<00:00, 282.14it/s, train_loss=0.743]\n",
      "Train Epoch [0187/1000]: 100%|██████████| 63/63 [00:00<00:00, 288.29it/s, train_loss=0.739]\n",
      "Train Epoch [0188/1000]: 100%|██████████| 63/63 [00:00<00:00, 294.69it/s, train_loss=0.736]\n",
      "Train Epoch [0189/1000]: 100%|██████████| 63/63 [00:00<00:00, 292.91it/s, train_loss=0.732]\n",
      "Train Epoch [0190/1000]: 100%|██████████| 63/63 [00:00<00:00, 258.89it/s, train_loss=0.728]\n",
      "Train Epoch [0191/1000]: 100%|██████████| 63/63 [00:00<00:00, 294.24it/s, train_loss=0.725]\n",
      "Train Epoch [0192/1000]: 100%|██████████| 63/63 [00:00<00:00, 298.63it/s, train_loss=0.721]\n",
      "Train Epoch [0193/1000]: 100%|██████████| 63/63 [00:00<00:00, 288.31it/s, train_loss=0.717]\n",
      "Train Epoch [0194/1000]: 100%|██████████| 63/63 [00:00<00:00, 317.18it/s, train_loss=0.714]\n",
      "Train Epoch [0195/1000]: 100%|██████████| 63/63 [00:00<00:00, 294.21it/s, train_loss=0.71] \n",
      "Train Epoch [0196/1000]: 100%|██████████| 63/63 [00:00<00:00, 302.29it/s, train_loss=0.707]\n",
      "Train Epoch [0197/1000]: 100%|██████████| 63/63 [00:00<00:00, 285.74it/s, train_loss=0.703]\n",
      "Train Epoch [0198/1000]: 100%|██████████| 63/63 [00:00<00:00, 311.28it/s, train_loss=0.7]  \n",
      "Train Epoch [0199/1000]: 100%|██████████| 63/63 [00:00<00:00, 296.50it/s, train_loss=0.697]\n",
      "Train Epoch [0200/1000]: 100%|██████████| 63/63 [00:00<00:00, 299.98it/s, train_loss=0.693]\n"
     ]
    },
    {
     "name": "stdout",
     "output_type": "stream",
     "text": [
      "====================================================================================================\n",
      "Model Validation:\n"
     ]
    },
    {
     "name": "stderr",
     "output_type": "stream",
     "text": [
      "Val Epoch: 100%|██████████| 14/14 [00:00<00:00, 352.96it/s, val_loss=0.0365]\n"
     ]
    },
    {
     "name": "stdout",
     "output_type": "stream",
     "text": [
      "====================================================================================================\n"
     ]
    },
    {
     "name": "stderr",
     "output_type": "stream",
     "text": [
      "Train Epoch [0201/1000]: 100%|██████████| 63/63 [00:00<00:00, 282.54it/s, train_loss=0.69] \n",
      "Train Epoch [0202/1000]: 100%|██████████| 63/63 [00:00<00:00, 316.12it/s, train_loss=0.687]\n",
      "Train Epoch [0203/1000]: 100%|██████████| 63/63 [00:00<00:00, 281.65it/s, train_loss=0.683]\n",
      "Train Epoch [0204/1000]: 100%|██████████| 63/63 [00:00<00:00, 277.02it/s, train_loss=0.68] \n",
      "Train Epoch [0205/1000]: 100%|██████████| 63/63 [00:00<00:00, 300.07it/s, train_loss=0.677]\n",
      "Train Epoch [0206/1000]: 100%|██████████| 63/63 [00:00<00:00, 298.91it/s, train_loss=0.674]\n",
      "Train Epoch [0207/1000]: 100%|██████████| 63/63 [00:00<00:00, 282.56it/s, train_loss=0.671]\n",
      "Train Epoch [0208/1000]: 100%|██████████| 63/63 [00:00<00:00, 291.36it/s, train_loss=0.668]\n",
      "Train Epoch [0209/1000]: 100%|██████████| 63/63 [00:00<00:00, 269.84it/s, train_loss=0.665]\n",
      "Train Epoch [0210/1000]: 100%|██████████| 63/63 [00:00<00:00, 300.28it/s, train_loss=0.662]\n",
      "Train Epoch [0211/1000]: 100%|██████████| 63/63 [00:00<00:00, 309.73it/s, train_loss=0.659]\n",
      "Train Epoch [0212/1000]: 100%|██████████| 63/63 [00:00<00:00, 310.28it/s, train_loss=0.656]\n",
      "Train Epoch [0213/1000]: 100%|██████████| 63/63 [00:00<00:00, 261.63it/s, train_loss=0.653]\n",
      "Train Epoch [0214/1000]: 100%|██████████| 63/63 [00:00<00:00, 289.81it/s, train_loss=0.65] \n",
      "Train Epoch [0215/1000]: 100%|██████████| 63/63 [00:00<00:00, 280.05it/s, train_loss=0.647]\n",
      "Train Epoch [0216/1000]: 100%|██████████| 63/63 [00:00<00:00, 277.04it/s, train_loss=0.644]\n",
      "Train Epoch [0217/1000]: 100%|██████████| 63/63 [00:00<00:00, 286.29it/s, train_loss=0.641]\n",
      "Train Epoch [0218/1000]: 100%|██████████| 63/63 [00:00<00:00, 286.37it/s, train_loss=0.638]\n",
      "Train Epoch [0219/1000]: 100%|██████████| 63/63 [00:00<00:00, 305.47it/s, train_loss=0.635]\n",
      "Train Epoch [0220/1000]: 100%|██████████| 63/63 [00:00<00:00, 288.36it/s, train_loss=0.633]\n"
     ]
    },
    {
     "name": "stdout",
     "output_type": "stream",
     "text": [
      "====================================================================================================\n",
      "Model Validation:\n"
     ]
    },
    {
     "name": "stderr",
     "output_type": "stream",
     "text": [
      "Val Epoch: 100%|██████████| 14/14 [00:00<00:00, 384.06it/s, val_loss=0.0333]\n"
     ]
    },
    {
     "name": "stdout",
     "output_type": "stream",
     "text": [
      "====================================================================================================\n"
     ]
    },
    {
     "name": "stderr",
     "output_type": "stream",
     "text": [
      "Train Epoch [0221/1000]: 100%|██████████| 63/63 [00:00<00:00, 292.34it/s, train_loss=0.63] \n",
      "Train Epoch [0222/1000]: 100%|██████████| 63/63 [00:00<00:00, 296.92it/s, train_loss=0.627]\n",
      "Train Epoch [0223/1000]: 100%|██████████| 63/63 [00:00<00:00, 302.95it/s, train_loss=0.625]\n",
      "Train Epoch [0224/1000]: 100%|██████████| 63/63 [00:00<00:00, 286.41it/s, train_loss=0.622]\n",
      "Train Epoch [0225/1000]: 100%|██████████| 63/63 [00:00<00:00, 298.79it/s, train_loss=0.619]\n",
      "Train Epoch [0226/1000]: 100%|██████████| 63/63 [00:00<00:00, 236.77it/s, train_loss=0.617]\n",
      "Train Epoch [0227/1000]: 100%|██████████| 63/63 [00:00<00:00, 251.69it/s, train_loss=0.614]\n",
      "Train Epoch [0228/1000]: 100%|██████████| 63/63 [00:00<00:00, 266.81it/s, train_loss=0.611]\n",
      "Train Epoch [0229/1000]: 100%|██████████| 63/63 [00:00<00:00, 259.81it/s, train_loss=0.609]\n",
      "Train Epoch [0230/1000]: 100%|██████████| 63/63 [00:00<00:00, 260.07it/s, train_loss=0.606]\n",
      "Train Epoch [0231/1000]: 100%|██████████| 63/63 [00:00<00:00, 266.36it/s, train_loss=0.604]\n",
      "Train Epoch [0232/1000]: 100%|██████████| 63/63 [00:00<00:00, 271.02it/s, train_loss=0.601]\n",
      "Train Epoch [0233/1000]: 100%|██████████| 63/63 [00:00<00:00, 262.51it/s, train_loss=0.599]\n",
      "Train Epoch [0234/1000]: 100%|██████████| 63/63 [00:00<00:00, 279.92it/s, train_loss=0.596]\n",
      "Train Epoch [0235/1000]: 100%|██████████| 63/63 [00:00<00:00, 289.08it/s, train_loss=0.594]\n",
      "Train Epoch [0236/1000]: 100%|██████████| 63/63 [00:00<00:00, 255.08it/s, train_loss=0.591]\n",
      "Train Epoch [0237/1000]: 100%|██████████| 63/63 [00:00<00:00, 230.67it/s, train_loss=0.589]\n",
      "Train Epoch [0238/1000]: 100%|██████████| 63/63 [00:00<00:00, 252.76it/s, train_loss=0.587]\n",
      "Train Epoch [0239/1000]: 100%|██████████| 63/63 [00:00<00:00, 275.11it/s, train_loss=0.584]\n",
      "Train Epoch [0240/1000]: 100%|██████████| 63/63 [00:00<00:00, 281.34it/s, train_loss=0.582]\n"
     ]
    },
    {
     "name": "stdout",
     "output_type": "stream",
     "text": [
      "====================================================================================================\n",
      "Model Validation:\n"
     ]
    },
    {
     "name": "stderr",
     "output_type": "stream",
     "text": [
      "Val Epoch: 100%|██████████| 14/14 [00:00<00:00, 337.44it/s, val_loss=0.0313]\n"
     ]
    },
    {
     "name": "stdout",
     "output_type": "stream",
     "text": [
      "====================================================================================================\n"
     ]
    },
    {
     "name": "stderr",
     "output_type": "stream",
     "text": [
      "Train Epoch [0241/1000]: 100%|██████████| 63/63 [00:00<00:00, 284.63it/s, train_loss=0.58] \n",
      "Train Epoch [0242/1000]: 100%|██████████| 63/63 [00:00<00:00, 295.61it/s, train_loss=0.577]\n",
      "Train Epoch [0243/1000]: 100%|██████████| 63/63 [00:00<00:00, 274.87it/s, train_loss=0.575]\n",
      "Train Epoch [0244/1000]: 100%|██████████| 63/63 [00:00<00:00, 288.95it/s, train_loss=0.573]\n",
      "Train Epoch [0245/1000]: 100%|██████████| 63/63 [00:00<00:00, 283.65it/s, train_loss=0.57] \n",
      "Train Epoch [0246/1000]: 100%|██████████| 63/63 [00:00<00:00, 299.40it/s, train_loss=0.568]\n",
      "Train Epoch [0247/1000]: 100%|██████████| 63/63 [00:00<00:00, 281.47it/s, train_loss=0.566]\n",
      "Train Epoch [0248/1000]: 100%|██████████| 63/63 [00:00<00:00, 280.82it/s, train_loss=0.564]\n",
      "Train Epoch [0249/1000]: 100%|██████████| 63/63 [00:00<00:00, 306.24it/s, train_loss=0.562]\n",
      "Train Epoch [0250/1000]: 100%|██████████| 63/63 [00:00<00:00, 287.59it/s, train_loss=0.559]\n",
      "Train Epoch [0251/1000]: 100%|██████████| 63/63 [00:00<00:00, 281.18it/s, train_loss=0.557]\n",
      "Train Epoch [0252/1000]: 100%|██████████| 63/63 [00:00<00:00, 301.96it/s, train_loss=0.555]\n",
      "Train Epoch [0253/1000]: 100%|██████████| 63/63 [00:00<00:00, 256.48it/s, train_loss=0.553]\n",
      "Train Epoch [0254/1000]: 100%|██████████| 63/63 [00:00<00:00, 267.18it/s, train_loss=0.551]\n",
      "Train Epoch [0255/1000]: 100%|██████████| 63/63 [00:00<00:00, 285.45it/s, train_loss=0.549]\n",
      "Train Epoch [0256/1000]: 100%|██████████| 63/63 [00:00<00:00, 244.66it/s, train_loss=0.547]\n",
      "Train Epoch [0257/1000]: 100%|██████████| 63/63 [00:00<00:00, 281.79it/s, train_loss=0.545]\n",
      "Train Epoch [0258/1000]: 100%|██████████| 63/63 [00:00<00:00, 314.58it/s, train_loss=0.543]\n",
      "Train Epoch [0259/1000]: 100%|██████████| 63/63 [00:00<00:00, 296.64it/s, train_loss=0.541]\n",
      "Train Epoch [0260/1000]: 100%|██████████| 63/63 [00:00<00:00, 281.33it/s, train_loss=0.539]\n"
     ]
    },
    {
     "name": "stdout",
     "output_type": "stream",
     "text": [
      "====================================================================================================\n",
      "Model Validation:\n"
     ]
    },
    {
     "name": "stderr",
     "output_type": "stream",
     "text": [
      "Val Epoch: 100%|██████████| 14/14 [00:00<00:00, 442.62it/s, val_loss=0.0304]\n"
     ]
    },
    {
     "name": "stdout",
     "output_type": "stream",
     "text": [
      "====================================================================================================\n"
     ]
    },
    {
     "name": "stderr",
     "output_type": "stream",
     "text": [
      "Train Epoch [0261/1000]: 100%|██████████| 63/63 [00:00<00:00, 258.52it/s, train_loss=0.537]\n",
      "Train Epoch [0262/1000]: 100%|██████████| 63/63 [00:00<00:00, 292.89it/s, train_loss=0.535]\n",
      "Train Epoch [0263/1000]: 100%|██████████| 63/63 [00:00<00:00, 283.54it/s, train_loss=0.533]\n",
      "Train Epoch [0264/1000]: 100%|██████████| 63/63 [00:00<00:00, 259.84it/s, train_loss=0.531]\n",
      "Train Epoch [0265/1000]: 100%|██████████| 63/63 [00:00<00:00, 251.95it/s, train_loss=0.529]\n",
      "Train Epoch [0266/1000]: 100%|██████████| 63/63 [00:00<00:00, 265.03it/s, train_loss=0.527]\n",
      "Train Epoch [0267/1000]: 100%|██████████| 63/63 [00:00<00:00, 272.44it/s, train_loss=0.525]\n",
      "Train Epoch [0268/1000]: 100%|██████████| 63/63 [00:00<00:00, 265.25it/s, train_loss=0.523]\n",
      "Train Epoch [0269/1000]: 100%|██████████| 63/63 [00:00<00:00, 277.55it/s, train_loss=0.521]\n",
      "Train Epoch [0270/1000]: 100%|██████████| 63/63 [00:00<00:00, 291.30it/s, train_loss=0.519]\n",
      "Train Epoch [0271/1000]: 100%|██████████| 63/63 [00:00<00:00, 270.99it/s, train_loss=0.518]\n",
      "Train Epoch [0272/1000]: 100%|██████████| 63/63 [00:00<00:00, 274.07it/s, train_loss=0.516]\n",
      "Train Epoch [0273/1000]: 100%|██████████| 63/63 [00:00<00:00, 268.05it/s, train_loss=0.514]\n",
      "Train Epoch [0274/1000]: 100%|██████████| 63/63 [00:00<00:00, 280.10it/s, train_loss=0.512]\n",
      "Train Epoch [0275/1000]: 100%|██████████| 63/63 [00:00<00:00, 317.14it/s, train_loss=0.51] \n",
      "Train Epoch [0276/1000]: 100%|██████████| 63/63 [00:00<00:00, 304.42it/s, train_loss=0.509]\n",
      "Train Epoch [0277/1000]: 100%|██████████| 63/63 [00:00<00:00, 257.93it/s, train_loss=0.507]\n",
      "Train Epoch [0278/1000]: 100%|██████████| 63/63 [00:00<00:00, 284.36it/s, train_loss=0.505]\n",
      "Train Epoch [0279/1000]: 100%|██████████| 63/63 [00:00<00:00, 286.43it/s, train_loss=0.503]\n",
      "Train Epoch [0280/1000]: 100%|██████████| 63/63 [00:00<00:00, 288.89it/s, train_loss=0.502]\n"
     ]
    },
    {
     "name": "stdout",
     "output_type": "stream",
     "text": [
      "====================================================================================================\n",
      "Model Validation:\n"
     ]
    },
    {
     "name": "stderr",
     "output_type": "stream",
     "text": [
      "Val Epoch: 100%|██████████| 14/14 [00:00<00:00, 459.42it/s, val_loss=0.0337]\n"
     ]
    },
    {
     "name": "stdout",
     "output_type": "stream",
     "text": [
      "====================================================================================================\n"
     ]
    },
    {
     "name": "stderr",
     "output_type": "stream",
     "text": [
      "Train Epoch [0281/1000]: 100%|██████████| 63/63 [00:00<00:00, 292.61it/s, train_loss=0.5]  \n",
      "Train Epoch [0282/1000]: 100%|██████████| 63/63 [00:00<00:00, 293.76it/s, train_loss=0.498]\n",
      "Train Epoch [0283/1000]: 100%|██████████| 63/63 [00:00<00:00, 277.63it/s, train_loss=0.496]\n",
      "Train Epoch [0284/1000]: 100%|██████████| 63/63 [00:00<00:00, 299.42it/s, train_loss=0.495]\n",
      "Train Epoch [0285/1000]: 100%|██████████| 63/63 [00:00<00:00, 300.37it/s, train_loss=0.493]\n",
      "Train Epoch [0286/1000]: 100%|██████████| 63/63 [00:00<00:00, 297.76it/s, train_loss=0.491]\n",
      "Train Epoch [0287/1000]: 100%|██████████| 63/63 [00:00<00:00, 266.58it/s, train_loss=0.49] \n",
      "Train Epoch [0288/1000]: 100%|██████████| 63/63 [00:00<00:00, 302.65it/s, train_loss=0.488]\n",
      "Train Epoch [0289/1000]: 100%|██████████| 63/63 [00:00<00:00, 300.00it/s, train_loss=0.486]\n",
      "Train Epoch [0290/1000]: 100%|██████████| 63/63 [00:00<00:00, 272.70it/s, train_loss=0.485]\n",
      "Train Epoch [0291/1000]: 100%|██████████| 63/63 [00:00<00:00, 281.45it/s, train_loss=0.483]\n",
      "Train Epoch [0292/1000]: 100%|██████████| 63/63 [00:00<00:00, 271.55it/s, train_loss=0.482]\n",
      "Train Epoch [0293/1000]: 100%|██████████| 63/63 [00:00<00:00, 280.23it/s, train_loss=0.48] \n",
      "Train Epoch [0294/1000]: 100%|██████████| 63/63 [00:00<00:00, 291.80it/s, train_loss=0.478]\n",
      "Train Epoch [0295/1000]: 100%|██████████| 63/63 [00:00<00:00, 284.85it/s, train_loss=0.477]\n",
      "Train Epoch [0296/1000]: 100%|██████████| 63/63 [00:00<00:00, 261.48it/s, train_loss=0.475]\n",
      "Train Epoch [0297/1000]: 100%|██████████| 63/63 [00:00<00:00, 283.57it/s, train_loss=0.474]\n",
      "Train Epoch [0298/1000]: 100%|██████████| 63/63 [00:00<00:00, 238.69it/s, train_loss=0.472]\n",
      "Train Epoch [0299/1000]: 100%|██████████| 63/63 [00:00<00:00, 261.17it/s, train_loss=0.471]\n",
      "Train Epoch [0300/1000]: 100%|██████████| 63/63 [00:00<00:00, 280.99it/s, train_loss=0.469]\n"
     ]
    },
    {
     "name": "stdout",
     "output_type": "stream",
     "text": [
      "====================================================================================================\n",
      "Model Validation:\n"
     ]
    },
    {
     "name": "stderr",
     "output_type": "stream",
     "text": [
      "Val Epoch: 100%|██████████| 14/14 [00:00<00:00, 280.75it/s, val_loss=0.0294]\n"
     ]
    },
    {
     "name": "stdout",
     "output_type": "stream",
     "text": [
      "====================================================================================================\n"
     ]
    },
    {
     "name": "stderr",
     "output_type": "stream",
     "text": [
      "Train Epoch [0301/1000]: 100%|██████████| 63/63 [00:00<00:00, 292.03it/s, train_loss=0.468]\n",
      "Train Epoch [0302/1000]: 100%|██████████| 63/63 [00:00<00:00, 297.38it/s, train_loss=0.466]\n",
      "Train Epoch [0303/1000]: 100%|██████████| 63/63 [00:00<00:00, 305.47it/s, train_loss=0.465]\n",
      "Train Epoch [0304/1000]: 100%|██████████| 63/63 [00:00<00:00, 238.38it/s, train_loss=0.463]\n",
      "Train Epoch [0305/1000]: 100%|██████████| 63/63 [00:00<00:00, 257.88it/s, train_loss=0.462]\n",
      "Train Epoch [0306/1000]: 100%|██████████| 63/63 [00:00<00:00, 285.91it/s, train_loss=0.46] \n",
      "Train Epoch [0307/1000]: 100%|██████████| 63/63 [00:00<00:00, 257.83it/s, train_loss=0.459]\n",
      "Train Epoch [0308/1000]: 100%|██████████| 63/63 [00:00<00:00, 289.93it/s, train_loss=0.457]\n",
      "Train Epoch [0309/1000]: 100%|██████████| 63/63 [00:00<00:00, 258.62it/s, train_loss=0.456]\n",
      "Train Epoch [0310/1000]: 100%|██████████| 63/63 [00:00<00:00, 279.22it/s, train_loss=0.455]\n",
      "Train Epoch [0311/1000]: 100%|██████████| 63/63 [00:00<00:00, 283.00it/s, train_loss=0.453]\n",
      "Train Epoch [0312/1000]: 100%|██████████| 63/63 [00:00<00:00, 294.88it/s, train_loss=0.452]\n",
      "Train Epoch [0313/1000]: 100%|██████████| 63/63 [00:00<00:00, 258.59it/s, train_loss=0.45] \n",
      "Train Epoch [0314/1000]: 100%|██████████| 63/63 [00:00<00:00, 291.14it/s, train_loss=0.449]\n",
      "Train Epoch [0315/1000]: 100%|██████████| 63/63 [00:00<00:00, 272.55it/s, train_loss=0.448]\n",
      "Train Epoch [0316/1000]: 100%|██████████| 63/63 [00:00<00:00, 266.07it/s, train_loss=0.446]\n",
      "Train Epoch [0317/1000]: 100%|██████████| 63/63 [00:00<00:00, 271.80it/s, train_loss=0.445]\n",
      "Train Epoch [0318/1000]: 100%|██████████| 63/63 [00:00<00:00, 280.71it/s, train_loss=0.444]\n",
      "Train Epoch [0319/1000]: 100%|██████████| 63/63 [00:00<00:00, 247.06it/s, train_loss=0.442]\n",
      "Train Epoch [0320/1000]: 100%|██████████| 63/63 [00:00<00:00, 285.51it/s, train_loss=0.441]\n"
     ]
    },
    {
     "name": "stdout",
     "output_type": "stream",
     "text": [
      "====================================================================================================\n",
      "Model Validation:\n"
     ]
    },
    {
     "name": "stderr",
     "output_type": "stream",
     "text": [
      "Val Epoch: 100%|██████████| 14/14 [00:00<00:00, 345.48it/s, val_loss=0.0256]\n"
     ]
    },
    {
     "name": "stdout",
     "output_type": "stream",
     "text": [
      "====================================================================================================\n"
     ]
    },
    {
     "name": "stderr",
     "output_type": "stream",
     "text": [
      "Train Epoch [0321/1000]: 100%|██████████| 63/63 [00:00<00:00, 300.72it/s, train_loss=0.44]\n",
      "Train Epoch [0322/1000]: 100%|██████████| 63/63 [00:00<00:00, 292.99it/s, train_loss=0.438]\n",
      "Train Epoch [0323/1000]: 100%|██████████| 63/63 [00:00<00:00, 314.26it/s, train_loss=0.437]\n",
      "Train Epoch [0324/1000]: 100%|██████████| 63/63 [00:00<00:00, 304.65it/s, train_loss=0.436]\n",
      "Train Epoch [0325/1000]: 100%|██████████| 63/63 [00:00<00:00, 283.70it/s, train_loss=0.434]\n",
      "Train Epoch [0326/1000]: 100%|██████████| 63/63 [00:00<00:00, 290.09it/s, train_loss=0.433]\n",
      "Train Epoch [0327/1000]: 100%|██████████| 63/63 [00:00<00:00, 281.72it/s, train_loss=0.432]\n",
      "Train Epoch [0328/1000]: 100%|██████████| 63/63 [00:00<00:00, 302.45it/s, train_loss=0.431]\n",
      "Train Epoch [0329/1000]: 100%|██████████| 63/63 [00:00<00:00, 308.80it/s, train_loss=0.429]\n",
      "Train Epoch [0330/1000]: 100%|██████████| 63/63 [00:00<00:00, 295.71it/s, train_loss=0.428]\n",
      "Train Epoch [0331/1000]: 100%|██████████| 63/63 [00:00<00:00, 297.96it/s, train_loss=0.427]\n",
      "Train Epoch [0332/1000]: 100%|██████████| 63/63 [00:00<00:00, 307.15it/s, train_loss=0.426]\n",
      "Train Epoch [0333/1000]: 100%|██████████| 63/63 [00:00<00:00, 290.39it/s, train_loss=0.424]\n",
      "Train Epoch [0334/1000]: 100%|██████████| 63/63 [00:00<00:00, 306.26it/s, train_loss=0.423]\n",
      "Train Epoch [0335/1000]: 100%|██████████| 63/63 [00:00<00:00, 298.62it/s, train_loss=0.422]\n",
      "Train Epoch [0336/1000]: 100%|██████████| 63/63 [00:00<00:00, 309.22it/s, train_loss=0.421]\n",
      "Train Epoch [0337/1000]: 100%|██████████| 63/63 [00:00<00:00, 298.41it/s, train_loss=0.419]\n",
      "Train Epoch [0338/1000]: 100%|██████████| 63/63 [00:00<00:00, 287.26it/s, train_loss=0.418]\n",
      "Train Epoch [0339/1000]: 100%|██████████| 63/63 [00:00<00:00, 292.87it/s, train_loss=0.417]\n",
      "Train Epoch [0340/1000]: 100%|██████████| 63/63 [00:00<00:00, 279.27it/s, train_loss=0.416]\n"
     ]
    },
    {
     "name": "stdout",
     "output_type": "stream",
     "text": [
      "====================================================================================================\n",
      "Model Validation:\n"
     ]
    },
    {
     "name": "stderr",
     "output_type": "stream",
     "text": [
      "Val Epoch: 100%|██████████| 14/14 [00:00<00:00, 359.48it/s, val_loss=0.0245]\n"
     ]
    },
    {
     "name": "stdout",
     "output_type": "stream",
     "text": [
      "====================================================================================================\n"
     ]
    },
    {
     "name": "stderr",
     "output_type": "stream",
     "text": [
      "Train Epoch [0341/1000]: 100%|██████████| 63/63 [00:00<00:00, 272.44it/s, train_loss=0.415]\n",
      "Train Epoch [0342/1000]: 100%|██████████| 63/63 [00:00<00:00, 309.66it/s, train_loss=0.414]\n",
      "Train Epoch [0343/1000]: 100%|██████████| 63/63 [00:00<00:00, 288.58it/s, train_loss=0.412]\n",
      "Train Epoch [0344/1000]: 100%|██████████| 63/63 [00:00<00:00, 277.02it/s, train_loss=0.411]\n",
      "Train Epoch [0345/1000]: 100%|██████████| 63/63 [00:00<00:00, 307.33it/s, train_loss=0.41] \n",
      "Train Epoch [0346/1000]: 100%|██████████| 63/63 [00:00<00:00, 281.13it/s, train_loss=0.409]\n",
      "Train Epoch [0347/1000]: 100%|██████████| 63/63 [00:00<00:00, 282.26it/s, train_loss=0.408]\n",
      "Train Epoch [0348/1000]: 100%|██████████| 63/63 [00:00<00:00, 318.34it/s, train_loss=0.407]\n",
      "Train Epoch [0349/1000]: 100%|██████████| 63/63 [00:00<00:00, 266.15it/s, train_loss=0.406]\n",
      "Train Epoch [0350/1000]: 100%|██████████| 63/63 [00:00<00:00, 310.86it/s, train_loss=0.404]\n",
      "Train Epoch [0351/1000]: 100%|██████████| 63/63 [00:00<00:00, 291.63it/s, train_loss=0.403]\n",
      "Train Epoch [0352/1000]: 100%|██████████| 63/63 [00:00<00:00, 297.50it/s, train_loss=0.402]\n",
      "Train Epoch [0353/1000]: 100%|██████████| 63/63 [00:00<00:00, 294.94it/s, train_loss=0.401]\n",
      "Train Epoch [0354/1000]: 100%|██████████| 63/63 [00:00<00:00, 288.56it/s, train_loss=0.4]  \n",
      "Train Epoch [0355/1000]: 100%|██████████| 63/63 [00:00<00:00, 287.42it/s, train_loss=0.399]\n",
      "Train Epoch [0356/1000]: 100%|██████████| 63/63 [00:00<00:00, 286.19it/s, train_loss=0.398]\n",
      "Train Epoch [0357/1000]: 100%|██████████| 63/63 [00:00<00:00, 285.88it/s, train_loss=0.397]\n",
      "Train Epoch [0358/1000]: 100%|██████████| 63/63 [00:00<00:00, 295.32it/s, train_loss=0.396]\n",
      "Train Epoch [0359/1000]: 100%|██████████| 63/63 [00:00<00:00, 308.34it/s, train_loss=0.395]\n",
      "Train Epoch [0360/1000]: 100%|██████████| 63/63 [00:00<00:00, 295.18it/s, train_loss=0.394]\n"
     ]
    },
    {
     "name": "stdout",
     "output_type": "stream",
     "text": [
      "====================================================================================================\n",
      "Model Validation:\n"
     ]
    },
    {
     "name": "stderr",
     "output_type": "stream",
     "text": [
      "Val Epoch: 100%|██████████| 14/14 [00:00<00:00, 342.38it/s, val_loss=0.0236]\n"
     ]
    },
    {
     "name": "stdout",
     "output_type": "stream",
     "text": [
      "====================================================================================================\n"
     ]
    },
    {
     "name": "stderr",
     "output_type": "stream",
     "text": [
      "Train Epoch [0361/1000]: 100%|██████████| 63/63 [00:00<00:00, 293.41it/s, train_loss=0.393]\n",
      "Train Epoch [0362/1000]: 100%|██████████| 63/63 [00:00<00:00, 286.17it/s, train_loss=0.391]\n",
      "Train Epoch [0363/1000]: 100%|██████████| 63/63 [00:00<00:00, 293.49it/s, train_loss=0.39] \n",
      "Train Epoch [0364/1000]: 100%|██████████| 63/63 [00:00<00:00, 305.49it/s, train_loss=0.389]\n",
      "Train Epoch [0365/1000]: 100%|██████████| 63/63 [00:00<00:00, 295.63it/s, train_loss=0.388]\n",
      "Train Epoch [0366/1000]: 100%|██████████| 63/63 [00:00<00:00, 310.45it/s, train_loss=0.387]\n",
      "Train Epoch [0367/1000]: 100%|██████████| 63/63 [00:00<00:00, 291.09it/s, train_loss=0.386]\n",
      "Train Epoch [0368/1000]: 100%|██████████| 63/63 [00:00<00:00, 298.73it/s, train_loss=0.385]\n",
      "Train Epoch [0369/1000]: 100%|██████████| 63/63 [00:00<00:00, 302.01it/s, train_loss=0.384]\n",
      "Train Epoch [0370/1000]: 100%|██████████| 63/63 [00:00<00:00, 301.90it/s, train_loss=0.383]\n",
      "Train Epoch [0371/1000]: 100%|██████████| 63/63 [00:00<00:00, 271.85it/s, train_loss=0.382]\n",
      "Train Epoch [0372/1000]: 100%|██████████| 63/63 [00:00<00:00, 296.27it/s, train_loss=0.381]\n",
      "Train Epoch [0373/1000]: 100%|██████████| 63/63 [00:00<00:00, 308.61it/s, train_loss=0.38] \n",
      "Train Epoch [0374/1000]: 100%|██████████| 63/63 [00:00<00:00, 279.46it/s, train_loss=0.379]\n",
      "Train Epoch [0375/1000]: 100%|██████████| 63/63 [00:00<00:00, 289.13it/s, train_loss=0.378]\n",
      "Train Epoch [0376/1000]: 100%|██████████| 63/63 [00:00<00:00, 293.38it/s, train_loss=0.377]\n",
      "Train Epoch [0377/1000]: 100%|██████████| 63/63 [00:00<00:00, 297.10it/s, train_loss=0.376]\n",
      "Train Epoch [0378/1000]: 100%|██████████| 63/63 [00:00<00:00, 292.00it/s, train_loss=0.375]\n",
      "Train Epoch [0379/1000]: 100%|██████████| 63/63 [00:00<00:00, 286.11it/s, train_loss=0.375]\n",
      "Train Epoch [0380/1000]: 100%|██████████| 63/63 [00:00<00:00, 272.61it/s, train_loss=0.374]\n"
     ]
    },
    {
     "name": "stdout",
     "output_type": "stream",
     "text": [
      "====================================================================================================\n",
      "Model Validation:\n"
     ]
    },
    {
     "name": "stderr",
     "output_type": "stream",
     "text": [
      "Val Epoch: 100%|██████████| 14/14 [00:00<00:00, 423.60it/s, val_loss=0.0322]\n"
     ]
    },
    {
     "name": "stdout",
     "output_type": "stream",
     "text": [
      "====================================================================================================\n"
     ]
    },
    {
     "name": "stderr",
     "output_type": "stream",
     "text": [
      "Train Epoch [0381/1000]: 100%|██████████| 63/63 [00:00<00:00, 280.08it/s, train_loss=0.373]\n",
      "Train Epoch [0382/1000]: 100%|██████████| 63/63 [00:00<00:00, 289.11it/s, train_loss=0.372]\n",
      "Train Epoch [0383/1000]: 100%|██████████| 63/63 [00:00<00:00, 291.60it/s, train_loss=0.371]\n",
      "Train Epoch [0384/1000]: 100%|██████████| 63/63 [00:00<00:00, 247.06it/s, train_loss=0.37]\n",
      "Train Epoch [0385/1000]: 100%|██████████| 63/63 [00:00<00:00, 278.97it/s, train_loss=0.369]\n",
      "Train Epoch [0386/1000]: 100%|██████████| 63/63 [00:00<00:00, 303.60it/s, train_loss=0.368]\n",
      "Train Epoch [0387/1000]: 100%|██████████| 63/63 [00:00<00:00, 285.42it/s, train_loss=0.367]\n",
      "Train Epoch [0388/1000]: 100%|██████████| 63/63 [00:00<00:00, 281.03it/s, train_loss=0.366]\n",
      "Train Epoch [0389/1000]: 100%|██████████| 63/63 [00:00<00:00, 273.48it/s, train_loss=0.365]\n",
      "Train Epoch [0390/1000]: 100%|██████████| 63/63 [00:00<00:00, 290.75it/s, train_loss=0.364]\n",
      "Train Epoch [0391/1000]: 100%|██████████| 63/63 [00:00<00:00, 278.08it/s, train_loss=0.363]\n",
      "Train Epoch [0392/1000]: 100%|██████████| 63/63 [00:00<00:00, 257.00it/s, train_loss=0.363]\n",
      "Train Epoch [0393/1000]: 100%|██████████| 63/63 [00:00<00:00, 299.31it/s, train_loss=0.362]\n",
      "Train Epoch [0394/1000]: 100%|██████████| 63/63 [00:00<00:00, 296.16it/s, train_loss=0.361]\n",
      "Train Epoch [0395/1000]: 100%|██████████| 63/63 [00:00<00:00, 265.22it/s, train_loss=0.36]\n",
      "Train Epoch [0396/1000]: 100%|██████████| 63/63 [00:00<00:00, 284.12it/s, train_loss=0.359]\n",
      "Train Epoch [0397/1000]: 100%|██████████| 63/63 [00:00<00:00, 231.66it/s, train_loss=0.358]\n",
      "Train Epoch [0398/1000]: 100%|██████████| 63/63 [00:00<00:00, 278.72it/s, train_loss=0.357]\n",
      "Train Epoch [0399/1000]: 100%|██████████| 63/63 [00:00<00:00, 256.34it/s, train_loss=0.356]\n",
      "Train Epoch [0400/1000]: 100%|██████████| 63/63 [00:00<00:00, 275.81it/s, train_loss=0.356]\n"
     ]
    },
    {
     "name": "stdout",
     "output_type": "stream",
     "text": [
      "====================================================================================================\n",
      "Model Validation:\n"
     ]
    },
    {
     "name": "stderr",
     "output_type": "stream",
     "text": [
      "Val Epoch: 100%|██████████| 14/14 [00:00<00:00, 438.48it/s, val_loss=0.0252]\n"
     ]
    },
    {
     "name": "stdout",
     "output_type": "stream",
     "text": [
      "====================================================================================================\n"
     ]
    },
    {
     "name": "stderr",
     "output_type": "stream",
     "text": [
      "Train Epoch [0401/1000]: 100%|██████████| 63/63 [00:00<00:00, 260.46it/s, train_loss=0.355]\n",
      "Train Epoch [0402/1000]: 100%|██████████| 63/63 [00:00<00:00, 272.71it/s, train_loss=0.354]\n",
      "Train Epoch [0403/1000]: 100%|██████████| 63/63 [00:00<00:00, 297.75it/s, train_loss=0.353]\n",
      "Train Epoch [0404/1000]: 100%|██████████| 63/63 [00:00<00:00, 279.70it/s, train_loss=0.352]\n",
      "Train Epoch [0405/1000]: 100%|██████████| 63/63 [00:00<00:00, 272.44it/s, train_loss=0.351]\n",
      "Train Epoch [0406/1000]: 100%|██████████| 63/63 [00:00<00:00, 254.95it/s, train_loss=0.35] \n",
      "Train Epoch [0407/1000]: 100%|██████████| 63/63 [00:00<00:00, 271.39it/s, train_loss=0.35]\n",
      "Train Epoch [0408/1000]: 100%|██████████| 63/63 [00:00<00:00, 309.40it/s, train_loss=0.349]\n",
      "Train Epoch [0409/1000]: 100%|██████████| 63/63 [00:00<00:00, 266.30it/s, train_loss=0.348]\n",
      "Train Epoch [0410/1000]: 100%|██████████| 63/63 [00:00<00:00, 292.48it/s, train_loss=0.347]\n",
      "Train Epoch [0411/1000]: 100%|██████████| 63/63 [00:00<00:00, 287.71it/s, train_loss=0.346]\n",
      "Train Epoch [0412/1000]: 100%|██████████| 63/63 [00:00<00:00, 277.91it/s, train_loss=0.346]\n",
      "Train Epoch [0413/1000]: 100%|██████████| 63/63 [00:00<00:00, 298.31it/s, train_loss=0.345]\n",
      "Train Epoch [0414/1000]: 100%|██████████| 63/63 [00:00<00:00, 300.68it/s, train_loss=0.344]\n",
      "Train Epoch [0415/1000]: 100%|██████████| 63/63 [00:00<00:00, 296.69it/s, train_loss=0.343]\n",
      "Train Epoch [0416/1000]: 100%|██████████| 63/63 [00:00<00:00, 294.67it/s, train_loss=0.342]\n",
      "Train Epoch [0417/1000]: 100%|██████████| 63/63 [00:00<00:00, 303.14it/s, train_loss=0.342]\n",
      "Train Epoch [0418/1000]: 100%|██████████| 63/63 [00:00<00:00, 288.20it/s, train_loss=0.341]\n",
      "Train Epoch [0419/1000]: 100%|██████████| 63/63 [00:00<00:00, 284.92it/s, train_loss=0.34]\n",
      "Train Epoch [0420/1000]: 100%|██████████| 63/63 [00:00<00:00, 302.86it/s, train_loss=0.339]\n"
     ]
    },
    {
     "name": "stdout",
     "output_type": "stream",
     "text": [
      "====================================================================================================\n",
      "Model Validation:\n"
     ]
    },
    {
     "name": "stderr",
     "output_type": "stream",
     "text": [
      "Val Epoch: 100%|██████████| 14/14 [00:00<00:00, 379.67it/s, val_loss=0.0222]\n"
     ]
    },
    {
     "name": "stdout",
     "output_type": "stream",
     "text": [
      "====================================================================================================\n"
     ]
    },
    {
     "name": "stderr",
     "output_type": "stream",
     "text": [
      "Train Epoch [0421/1000]: 100%|██████████| 63/63 [00:00<00:00, 306.09it/s, train_loss=0.338]\n",
      "Train Epoch [0422/1000]: 100%|██████████| 63/63 [00:00<00:00, 284.68it/s, train_loss=0.338]\n",
      "Train Epoch [0423/1000]: 100%|██████████| 63/63 [00:00<00:00, 305.92it/s, train_loss=0.337]\n",
      "Train Epoch [0424/1000]: 100%|██████████| 63/63 [00:00<00:00, 293.76it/s, train_loss=0.336]\n",
      "Train Epoch [0425/1000]: 100%|██████████| 63/63 [00:00<00:00, 282.51it/s, train_loss=0.335]\n",
      "Train Epoch [0426/1000]: 100%|██████████| 63/63 [00:00<00:00, 305.88it/s, train_loss=0.335]\n",
      "Train Epoch [0427/1000]: 100%|██████████| 63/63 [00:00<00:00, 296.34it/s, train_loss=0.334]\n",
      "Train Epoch [0428/1000]: 100%|██████████| 63/63 [00:00<00:00, 253.46it/s, train_loss=0.333]\n",
      "Train Epoch [0429/1000]: 100%|██████████| 63/63 [00:00<00:00, 277.47it/s, train_loss=0.332]\n",
      "Train Epoch [0430/1000]: 100%|██████████| 63/63 [00:00<00:00, 292.08it/s, train_loss=0.332]\n",
      "Train Epoch [0431/1000]: 100%|██████████| 63/63 [00:00<00:00, 281.16it/s, train_loss=0.331]\n",
      "Train Epoch [0432/1000]: 100%|██████████| 63/63 [00:00<00:00, 276.33it/s, train_loss=0.33] \n",
      "Train Epoch [0433/1000]: 100%|██████████| 63/63 [00:00<00:00, 299.88it/s, train_loss=0.329]\n",
      "Train Epoch [0434/1000]: 100%|██████████| 63/63 [00:00<00:00, 278.96it/s, train_loss=0.329]\n",
      "Train Epoch [0435/1000]: 100%|██████████| 63/63 [00:00<00:00, 297.31it/s, train_loss=0.328]\n",
      "Train Epoch [0436/1000]: 100%|██████████| 63/63 [00:00<00:00, 308.80it/s, train_loss=0.327]\n",
      "Train Epoch [0437/1000]: 100%|██████████| 63/63 [00:00<00:00, 296.48it/s, train_loss=0.326]\n",
      "Train Epoch [0438/1000]: 100%|██████████| 63/63 [00:00<00:00, 306.95it/s, train_loss=0.326]\n",
      "Train Epoch [0439/1000]: 100%|██████████| 63/63 [00:00<00:00, 297.45it/s, train_loss=0.325]\n",
      "Train Epoch [0440/1000]: 100%|██████████| 63/63 [00:00<00:00, 264.18it/s, train_loss=0.324]\n"
     ]
    },
    {
     "name": "stdout",
     "output_type": "stream",
     "text": [
      "====================================================================================================\n",
      "Model Validation:\n"
     ]
    },
    {
     "name": "stderr",
     "output_type": "stream",
     "text": [
      "Val Epoch: 100%|██████████| 14/14 [00:00<00:00, 450.49it/s, val_loss=0.0247]\n"
     ]
    },
    {
     "name": "stdout",
     "output_type": "stream",
     "text": [
      "====================================================================================================\n"
     ]
    },
    {
     "name": "stderr",
     "output_type": "stream",
     "text": [
      "Train Epoch [0441/1000]: 100%|██████████| 63/63 [00:00<00:00, 280.38it/s, train_loss=0.324]\n",
      "Train Epoch [0442/1000]: 100%|██████████| 63/63 [00:00<00:00, 282.76it/s, train_loss=0.323]\n",
      "Train Epoch [0443/1000]: 100%|██████████| 63/63 [00:00<00:00, 276.12it/s, train_loss=0.322]\n",
      "Train Epoch [0444/1000]: 100%|██████████| 63/63 [00:00<00:00, 297.11it/s, train_loss=0.322]\n",
      "Train Epoch [0445/1000]: 100%|██████████| 63/63 [00:00<00:00, 295.52it/s, train_loss=0.321]\n",
      "Train Epoch [0446/1000]: 100%|██████████| 63/63 [00:00<00:00, 282.64it/s, train_loss=0.32]\n",
      "Train Epoch [0447/1000]: 100%|██████████| 63/63 [00:00<00:00, 305.52it/s, train_loss=0.319]\n",
      "Train Epoch [0448/1000]: 100%|██████████| 63/63 [00:00<00:00, 304.27it/s, train_loss=0.319]\n",
      "Train Epoch [0449/1000]: 100%|██████████| 63/63 [00:00<00:00, 304.23it/s, train_loss=0.318]\n",
      "Train Epoch [0450/1000]: 100%|██████████| 63/63 [00:00<00:00, 292.13it/s, train_loss=0.317]\n",
      "Train Epoch [0451/1000]: 100%|██████████| 63/63 [00:00<00:00, 284.72it/s, train_loss=0.317]\n",
      "Train Epoch [0452/1000]: 100%|██████████| 63/63 [00:00<00:00, 292.25it/s, train_loss=0.316]\n",
      "Train Epoch [0453/1000]: 100%|██████████| 63/63 [00:00<00:00, 298.63it/s, train_loss=0.315]\n",
      "Train Epoch [0454/1000]: 100%|██████████| 63/63 [00:00<00:00, 290.02it/s, train_loss=0.315]\n",
      "Train Epoch [0455/1000]: 100%|██████████| 63/63 [00:00<00:00, 300.70it/s, train_loss=0.314]\n",
      "Train Epoch [0456/1000]: 100%|██████████| 63/63 [00:00<00:00, 312.98it/s, train_loss=0.313]\n",
      "Train Epoch [0457/1000]: 100%|██████████| 63/63 [00:00<00:00, 293.35it/s, train_loss=0.313]\n",
      "Train Epoch [0458/1000]: 100%|██████████| 63/63 [00:00<00:00, 287.73it/s, train_loss=0.312]\n",
      "Train Epoch [0459/1000]: 100%|██████████| 63/63 [00:00<00:00, 298.09it/s, train_loss=0.311]\n",
      "Train Epoch [0460/1000]: 100%|██████████| 63/63 [00:00<00:00, 296.95it/s, train_loss=0.311]\n"
     ]
    },
    {
     "name": "stdout",
     "output_type": "stream",
     "text": [
      "====================================================================================================\n",
      "Model Validation:\n"
     ]
    },
    {
     "name": "stderr",
     "output_type": "stream",
     "text": [
      "Val Epoch: 100%|██████████| 14/14 [00:00<00:00, 412.86it/s, val_loss=0.0229]\n"
     ]
    },
    {
     "name": "stdout",
     "output_type": "stream",
     "text": [
      "====================================================================================================\n"
     ]
    },
    {
     "name": "stderr",
     "output_type": "stream",
     "text": [
      "Train Epoch [0461/1000]: 100%|██████████| 63/63 [00:00<00:00, 301.24it/s, train_loss=0.31]\n",
      "Train Epoch [0462/1000]: 100%|██████████| 63/63 [00:00<00:00, 296.84it/s, train_loss=0.309]\n",
      "Train Epoch [0463/1000]: 100%|██████████| 63/63 [00:00<00:00, 300.81it/s, train_loss=0.309]\n",
      "Train Epoch [0464/1000]: 100%|██████████| 63/63 [00:00<00:00, 286.84it/s, train_loss=0.308]\n",
      "Train Epoch [0465/1000]: 100%|██████████| 63/63 [00:00<00:00, 289.76it/s, train_loss=0.308]\n",
      "Train Epoch [0466/1000]: 100%|██████████| 63/63 [00:00<00:00, 306.52it/s, train_loss=0.307]\n",
      "Train Epoch [0467/1000]: 100%|██████████| 63/63 [00:00<00:00, 294.29it/s, train_loss=0.306]\n",
      "Train Epoch [0468/1000]: 100%|██████████| 63/63 [00:00<00:00, 291.90it/s, train_loss=0.306]\n",
      "Train Epoch [0469/1000]: 100%|██████████| 63/63 [00:00<00:00, 279.57it/s, train_loss=0.305]\n",
      "Train Epoch [0470/1000]: 100%|██████████| 63/63 [00:00<00:00, 263.70it/s, train_loss=0.304]\n",
      "Train Epoch [0471/1000]: 100%|██████████| 63/63 [00:00<00:00, 296.90it/s, train_loss=0.304]\n",
      "Train Epoch [0472/1000]: 100%|██████████| 63/63 [00:00<00:00, 312.31it/s, train_loss=0.303]\n",
      "Train Epoch [0473/1000]: 100%|██████████| 63/63 [00:00<00:00, 305.39it/s, train_loss=0.303]\n",
      "Train Epoch [0474/1000]: 100%|██████████| 63/63 [00:00<00:00, 303.99it/s, train_loss=0.302]\n",
      "Train Epoch [0475/1000]: 100%|██████████| 63/63 [00:00<00:00, 292.34it/s, train_loss=0.301]\n",
      "Train Epoch [0476/1000]: 100%|██████████| 63/63 [00:00<00:00, 300.11it/s, train_loss=0.301]\n",
      "Train Epoch [0477/1000]: 100%|██████████| 63/63 [00:00<00:00, 283.96it/s, train_loss=0.3]\n",
      "Train Epoch [0478/1000]: 100%|██████████| 63/63 [00:00<00:00, 289.15it/s, train_loss=0.299]\n",
      "Train Epoch [0479/1000]: 100%|██████████| 63/63 [00:00<00:00, 290.26it/s, train_loss=0.299]\n",
      "Train Epoch [0480/1000]: 100%|██████████| 63/63 [00:00<00:00, 297.83it/s, train_loss=0.298]\n"
     ]
    },
    {
     "name": "stdout",
     "output_type": "stream",
     "text": [
      "====================================================================================================\n",
      "Model Validation:\n"
     ]
    },
    {
     "name": "stderr",
     "output_type": "stream",
     "text": [
      "Val Epoch: 100%|██████████| 14/14 [00:00<00:00, 436.22it/s, val_loss=0.0231]\n"
     ]
    },
    {
     "name": "stdout",
     "output_type": "stream",
     "text": [
      "====================================================================================================\n"
     ]
    },
    {
     "name": "stderr",
     "output_type": "stream",
     "text": [
      "Train Epoch [0481/1000]: 100%|██████████| 63/63 [00:00<00:00, 310.19it/s, train_loss=0.298]\n",
      "Train Epoch [0482/1000]: 100%|██████████| 63/63 [00:00<00:00, 283.53it/s, train_loss=0.297]\n",
      "Train Epoch [0483/1000]: 100%|██████████| 63/63 [00:00<00:00, 312.99it/s, train_loss=0.296]\n",
      "Train Epoch [0484/1000]: 100%|██████████| 63/63 [00:00<00:00, 302.72it/s, train_loss=0.296]\n",
      "Train Epoch [0485/1000]: 100%|██████████| 63/63 [00:00<00:00, 310.36it/s, train_loss=0.295]\n",
      "Train Epoch [0486/1000]: 100%|██████████| 63/63 [00:00<00:00, 313.13it/s, train_loss=0.295]\n",
      "Train Epoch [0487/1000]: 100%|██████████| 63/63 [00:00<00:00, 288.48it/s, train_loss=0.294]\n",
      "Train Epoch [0488/1000]: 100%|██████████| 63/63 [00:00<00:00, 272.85it/s, train_loss=0.294]\n",
      "Train Epoch [0489/1000]: 100%|██████████| 63/63 [00:00<00:00, 286.71it/s, train_loss=0.293]\n",
      "Train Epoch [0490/1000]: 100%|██████████| 63/63 [00:00<00:00, 289.85it/s, train_loss=0.292]\n",
      "Train Epoch [0491/1000]: 100%|██████████| 63/63 [00:00<00:00, 278.07it/s, train_loss=0.292]\n",
      "Train Epoch [0492/1000]: 100%|██████████| 63/63 [00:00<00:00, 284.27it/s, train_loss=0.291]\n",
      "Train Epoch [0493/1000]: 100%|██████████| 63/63 [00:00<00:00, 266.51it/s, train_loss=0.291]\n",
      "Train Epoch [0494/1000]: 100%|██████████| 63/63 [00:00<00:00, 295.31it/s, train_loss=0.29]\n",
      "Train Epoch [0495/1000]: 100%|██████████| 63/63 [00:00<00:00, 309.29it/s, train_loss=0.29]\n",
      "Train Epoch [0496/1000]: 100%|██████████| 63/63 [00:00<00:00, 282.81it/s, train_loss=0.289]\n",
      "Train Epoch [0497/1000]: 100%|██████████| 63/63 [00:00<00:00, 283.84it/s, train_loss=0.288]\n",
      "Train Epoch [0498/1000]: 100%|██████████| 63/63 [00:00<00:00, 260.33it/s, train_loss=0.288]\n",
      "Train Epoch [0499/1000]: 100%|██████████| 63/63 [00:00<00:00, 308.91it/s, train_loss=0.287]\n",
      "Train Epoch [0500/1000]: 100%|██████████| 63/63 [00:00<00:00, 287.58it/s, train_loss=0.287]\n"
     ]
    },
    {
     "name": "stdout",
     "output_type": "stream",
     "text": [
      "====================================================================================================\n",
      "Model Validation:\n"
     ]
    },
    {
     "name": "stderr",
     "output_type": "stream",
     "text": [
      "Val Epoch: 100%|██████████| 14/14 [00:00<00:00, 425.37it/s, val_loss=0.0302]\n"
     ]
    },
    {
     "name": "stdout",
     "output_type": "stream",
     "text": [
      "====================================================================================================\n"
     ]
    },
    {
     "name": "stderr",
     "output_type": "stream",
     "text": [
      "Train Epoch [0501/1000]: 100%|██████████| 63/63 [00:00<00:00, 289.70it/s, train_loss=0.286]\n",
      "Train Epoch [0502/1000]: 100%|██████████| 63/63 [00:00<00:00, 302.36it/s, train_loss=0.286]\n",
      "Train Epoch [0503/1000]: 100%|██████████| 63/63 [00:00<00:00, 314.02it/s, train_loss=0.285]\n",
      "Train Epoch [0504/1000]: 100%|██████████| 63/63 [00:00<00:00, 298.95it/s, train_loss=0.285]\n",
      "Train Epoch [0505/1000]: 100%|██████████| 63/63 [00:00<00:00, 306.91it/s, train_loss=0.284]\n",
      "Train Epoch [0506/1000]: 100%|██████████| 63/63 [00:00<00:00, 307.06it/s, train_loss=0.284]\n",
      "Train Epoch [0507/1000]: 100%|██████████| 63/63 [00:00<00:00, 281.92it/s, train_loss=0.283]\n",
      "Train Epoch [0508/1000]: 100%|██████████| 63/63 [00:00<00:00, 313.03it/s, train_loss=0.282]\n",
      "Train Epoch [0509/1000]: 100%|██████████| 63/63 [00:00<00:00, 307.55it/s, train_loss=0.282]\n",
      "Train Epoch [0510/1000]: 100%|██████████| 63/63 [00:00<00:00, 288.69it/s, train_loss=0.281]\n",
      "Train Epoch [0511/1000]: 100%|██████████| 63/63 [00:00<00:00, 308.69it/s, train_loss=0.281]\n",
      "Train Epoch [0512/1000]: 100%|██████████| 63/63 [00:00<00:00, 289.99it/s, train_loss=0.28] \n",
      "Train Epoch [0513/1000]: 100%|██████████| 63/63 [00:00<00:00, 269.52it/s, train_loss=0.28]\n",
      "Train Epoch [0514/1000]: 100%|██████████| 63/63 [00:00<00:00, 264.43it/s, train_loss=0.279]\n",
      "Train Epoch [0515/1000]: 100%|██████████| 63/63 [00:00<00:00, 287.64it/s, train_loss=0.279]\n",
      "Train Epoch [0516/1000]: 100%|██████████| 63/63 [00:00<00:00, 274.66it/s, train_loss=0.278]\n",
      "Train Epoch [0517/1000]: 100%|██████████| 63/63 [00:00<00:00, 283.86it/s, train_loss=0.278]\n",
      "Train Epoch [0518/1000]: 100%|██████████| 63/63 [00:00<00:00, 302.70it/s, train_loss=0.277]\n",
      "Train Epoch [0519/1000]: 100%|██████████| 63/63 [00:00<00:00, 302.10it/s, train_loss=0.277]\n",
      "Train Epoch [0520/1000]: 100%|██████████| 63/63 [00:00<00:00, 293.14it/s, train_loss=0.276]\n"
     ]
    },
    {
     "name": "stdout",
     "output_type": "stream",
     "text": [
      "====================================================================================================\n",
      "Model Validation:\n"
     ]
    },
    {
     "name": "stderr",
     "output_type": "stream",
     "text": [
      "Val Epoch: 100%|██████████| 14/14 [00:00<00:00, 427.64it/s, val_loss=0.0216]\n"
     ]
    },
    {
     "name": "stdout",
     "output_type": "stream",
     "text": [
      "====================================================================================================\n"
     ]
    },
    {
     "name": "stderr",
     "output_type": "stream",
     "text": [
      "Train Epoch [0521/1000]: 100%|██████████| 63/63 [00:00<00:00, 287.81it/s, train_loss=0.276]\n",
      "Train Epoch [0522/1000]: 100%|██████████| 63/63 [00:00<00:00, 268.08it/s, train_loss=0.275]\n",
      "Train Epoch [0523/1000]: 100%|██████████| 63/63 [00:00<00:00, 304.80it/s, train_loss=0.275]\n",
      "Train Epoch [0524/1000]: 100%|██████████| 63/63 [00:00<00:00, 286.04it/s, train_loss=0.274]\n",
      "Train Epoch [0525/1000]: 100%|██████████| 63/63 [00:00<00:00, 268.64it/s, train_loss=0.274]\n",
      "Train Epoch [0526/1000]: 100%|██████████| 63/63 [00:00<00:00, 285.22it/s, train_loss=0.273]\n",
      "Train Epoch [0527/1000]: 100%|██████████| 63/63 [00:00<00:00, 278.32it/s, train_loss=0.273]\n",
      "Train Epoch [0528/1000]: 100%|██████████| 63/63 [00:00<00:00, 297.78it/s, train_loss=0.272]\n",
      "Train Epoch [0529/1000]: 100%|██████████| 63/63 [00:00<00:00, 305.60it/s, train_loss=0.272]\n",
      "Train Epoch [0530/1000]: 100%|██████████| 63/63 [00:00<00:00, 272.79it/s, train_loss=0.271]\n",
      "Train Epoch [0531/1000]: 100%|██████████| 63/63 [00:00<00:00, 296.36it/s, train_loss=0.271]\n",
      "Train Epoch [0532/1000]: 100%|██████████| 63/63 [00:00<00:00, 281.18it/s, train_loss=0.27]\n",
      "Train Epoch [0533/1000]: 100%|██████████| 63/63 [00:00<00:00, 260.28it/s, train_loss=0.27]\n",
      "Train Epoch [0534/1000]: 100%|██████████| 63/63 [00:00<00:00, 282.43it/s, train_loss=0.269]\n",
      "Train Epoch [0535/1000]: 100%|██████████| 63/63 [00:00<00:00, 278.32it/s, train_loss=0.269]\n",
      "Train Epoch [0536/1000]: 100%|██████████| 63/63 [00:00<00:00, 297.07it/s, train_loss=0.268]\n",
      "Train Epoch [0537/1000]: 100%|██████████| 63/63 [00:00<00:00, 279.51it/s, train_loss=0.268]\n",
      "Train Epoch [0538/1000]: 100%|██████████| 63/63 [00:00<00:00, 289.28it/s, train_loss=0.267]\n",
      "Train Epoch [0539/1000]: 100%|██████████| 63/63 [00:00<00:00, 303.06it/s, train_loss=0.267]\n",
      "Train Epoch [0540/1000]: 100%|██████████| 63/63 [00:00<00:00, 272.61it/s, train_loss=0.266]\n"
     ]
    },
    {
     "name": "stdout",
     "output_type": "stream",
     "text": [
      "====================================================================================================\n",
      "Model Validation:\n"
     ]
    },
    {
     "name": "stderr",
     "output_type": "stream",
     "text": [
      "Val Epoch: 100%|██████████| 14/14 [00:00<00:00, 368.91it/s, val_loss=0.0226]\n"
     ]
    },
    {
     "name": "stdout",
     "output_type": "stream",
     "text": [
      "====================================================================================================\n"
     ]
    },
    {
     "name": "stderr",
     "output_type": "stream",
     "text": [
      "Train Epoch [0541/1000]: 100%|██████████| 63/63 [00:00<00:00, 255.49it/s, train_loss=0.266]\n",
      "Train Epoch [0542/1000]: 100%|██████████| 63/63 [00:00<00:00, 264.97it/s, train_loss=0.265]\n",
      "Train Epoch [0543/1000]: 100%|██████████| 63/63 [00:00<00:00, 276.97it/s, train_loss=0.265]\n",
      "Train Epoch [0544/1000]: 100%|██████████| 63/63 [00:00<00:00, 300.36it/s, train_loss=0.264]\n",
      "Train Epoch [0545/1000]: 100%|██████████| 63/63 [00:00<00:00, 283.73it/s, train_loss=0.264]\n",
      "Train Epoch [0546/1000]: 100%|██████████| 63/63 [00:00<00:00, 287.79it/s, train_loss=0.264]\n",
      "Train Epoch [0547/1000]: 100%|██████████| 63/63 [00:00<00:00, 282.52it/s, train_loss=0.263]\n",
      "Train Epoch [0548/1000]: 100%|██████████| 63/63 [00:00<00:00, 292.48it/s, train_loss=0.263]\n",
      "Train Epoch [0549/1000]: 100%|██████████| 63/63 [00:00<00:00, 276.47it/s, train_loss=0.262]\n",
      "Train Epoch [0550/1000]: 100%|██████████| 63/63 [00:00<00:00, 283.99it/s, train_loss=0.262]\n",
      "Train Epoch [0551/1000]: 100%|██████████| 63/63 [00:00<00:00, 301.61it/s, train_loss=0.261]\n",
      "Train Epoch [0552/1000]: 100%|██████████| 63/63 [00:00<00:00, 295.06it/s, train_loss=0.261]\n",
      "Train Epoch [0553/1000]: 100%|██████████| 63/63 [00:00<00:00, 297.24it/s, train_loss=0.26] \n",
      "Train Epoch [0554/1000]: 100%|██████████| 63/63 [00:00<00:00, 297.69it/s, train_loss=0.26]\n",
      "Train Epoch [0555/1000]: 100%|██████████| 63/63 [00:00<00:00, 304.39it/s, train_loss=0.259]\n",
      "Train Epoch [0556/1000]: 100%|██████████| 63/63 [00:00<00:00, 293.96it/s, train_loss=0.259]\n",
      "Train Epoch [0557/1000]: 100%|██████████| 63/63 [00:00<00:00, 289.44it/s, train_loss=0.259]\n",
      "Train Epoch [0558/1000]: 100%|██████████| 63/63 [00:00<00:00, 283.85it/s, train_loss=0.258]\n",
      "Train Epoch [0559/1000]: 100%|██████████| 63/63 [00:00<00:00, 274.78it/s, train_loss=0.258]\n",
      "Train Epoch [0560/1000]: 100%|██████████| 63/63 [00:00<00:00, 270.28it/s, train_loss=0.257]\n"
     ]
    },
    {
     "name": "stdout",
     "output_type": "stream",
     "text": [
      "====================================================================================================\n",
      "Model Validation:\n"
     ]
    },
    {
     "name": "stderr",
     "output_type": "stream",
     "text": [
      "Val Epoch: 100%|██████████| 14/14 [00:00<00:00, 338.11it/s, val_loss=0.0203]\n"
     ]
    },
    {
     "name": "stdout",
     "output_type": "stream",
     "text": [
      "====================================================================================================\n"
     ]
    },
    {
     "name": "stderr",
     "output_type": "stream",
     "text": [
      "Train Epoch [0561/1000]: 100%|██████████| 63/63 [00:00<00:00, 293.61it/s, train_loss=0.257]\n",
      "Train Epoch [0562/1000]: 100%|██████████| 63/63 [00:00<00:00, 285.62it/s, train_loss=0.256]\n",
      "Train Epoch [0563/1000]: 100%|██████████| 63/63 [00:00<00:00, 288.82it/s, train_loss=0.256]\n",
      "Train Epoch [0564/1000]: 100%|██████████| 63/63 [00:00<00:00, 313.11it/s, train_loss=0.255]\n",
      "Train Epoch [0565/1000]: 100%|██████████| 63/63 [00:00<00:00, 286.92it/s, train_loss=0.255]\n",
      "Train Epoch [0566/1000]: 100%|██████████| 63/63 [00:00<00:00, 285.29it/s, train_loss=0.255]\n",
      "Train Epoch [0567/1000]: 100%|██████████| 63/63 [00:00<00:00, 276.93it/s, train_loss=0.254]\n",
      "Train Epoch [0568/1000]: 100%|██████████| 63/63 [00:00<00:00, 305.96it/s, train_loss=0.254]\n",
      "Train Epoch [0569/1000]: 100%|██████████| 63/63 [00:00<00:00, 283.88it/s, train_loss=0.253]\n",
      "Train Epoch [0570/1000]: 100%|██████████| 63/63 [00:00<00:00, 271.98it/s, train_loss=0.253]\n",
      "Train Epoch [0571/1000]: 100%|██████████| 63/63 [00:00<00:00, 304.82it/s, train_loss=0.252]\n",
      "Train Epoch [0572/1000]: 100%|██████████| 63/63 [00:00<00:00, 295.04it/s, train_loss=0.252]\n",
      "Train Epoch [0573/1000]: 100%|██████████| 63/63 [00:00<00:00, 309.34it/s, train_loss=0.252]\n",
      "Train Epoch [0574/1000]: 100%|██████████| 63/63 [00:00<00:00, 303.88it/s, train_loss=0.251]\n",
      "Train Epoch [0575/1000]: 100%|██████████| 63/63 [00:00<00:00, 262.01it/s, train_loss=0.251]\n",
      "Train Epoch [0576/1000]: 100%|██████████| 63/63 [00:00<00:00, 285.58it/s, train_loss=0.25] \n",
      "Train Epoch [0577/1000]: 100%|██████████| 63/63 [00:00<00:00, 272.26it/s, train_loss=0.25]\n",
      "Train Epoch [0578/1000]: 100%|██████████| 63/63 [00:00<00:00, 246.26it/s, train_loss=0.249]\n",
      "Train Epoch [0579/1000]: 100%|██████████| 63/63 [00:00<00:00, 283.75it/s, train_loss=0.249]\n",
      "Train Epoch [0580/1000]: 100%|██████████| 63/63 [00:00<00:00, 305.00it/s, train_loss=0.249]\n"
     ]
    },
    {
     "name": "stdout",
     "output_type": "stream",
     "text": [
      "====================================================================================================\n",
      "Model Validation:\n"
     ]
    },
    {
     "name": "stderr",
     "output_type": "stream",
     "text": [
      "Val Epoch: 100%|██████████| 14/14 [00:00<00:00, 319.03it/s, val_loss=0.0252]\n"
     ]
    },
    {
     "name": "stdout",
     "output_type": "stream",
     "text": [
      "====================================================================================================\n"
     ]
    },
    {
     "name": "stderr",
     "output_type": "stream",
     "text": [
      "Train Epoch [0581/1000]: 100%|██████████| 63/63 [00:00<00:00, 277.44it/s, train_loss=0.248]\n",
      "Train Epoch [0582/1000]: 100%|██████████| 63/63 [00:00<00:00, 281.64it/s, train_loss=0.248]\n",
      "Train Epoch [0583/1000]: 100%|██████████| 63/63 [00:00<00:00, 268.66it/s, train_loss=0.247]\n",
      "Train Epoch [0584/1000]: 100%|██████████| 63/63 [00:00<00:00, 306.60it/s, train_loss=0.247]\n",
      "Train Epoch [0585/1000]: 100%|██████████| 63/63 [00:00<00:00, 303.81it/s, train_loss=0.247]\n",
      "Train Epoch [0586/1000]: 100%|██████████| 63/63 [00:00<00:00, 275.52it/s, train_loss=0.246]\n",
      "Train Epoch [0587/1000]: 100%|██████████| 63/63 [00:00<00:00, 286.26it/s, train_loss=0.246]\n",
      "Train Epoch [0588/1000]: 100%|██████████| 63/63 [00:00<00:00, 293.39it/s, train_loss=0.245]\n",
      "Train Epoch [0589/1000]: 100%|██████████| 63/63 [00:00<00:00, 262.71it/s, train_loss=0.245]\n",
      "Train Epoch [0590/1000]: 100%|██████████| 63/63 [00:00<00:00, 305.85it/s, train_loss=0.245]\n",
      "Train Epoch [0591/1000]: 100%|██████████| 63/63 [00:00<00:00, 317.54it/s, train_loss=0.244]\n",
      "Train Epoch [0592/1000]: 100%|██████████| 63/63 [00:00<00:00, 295.75it/s, train_loss=0.244]\n",
      "Train Epoch [0593/1000]: 100%|██████████| 63/63 [00:00<00:00, 293.11it/s, train_loss=0.243]\n",
      "Train Epoch [0594/1000]: 100%|██████████| 63/63 [00:00<00:00, 286.03it/s, train_loss=0.243]\n",
      "Train Epoch [0595/1000]: 100%|██████████| 63/63 [00:00<00:00, 314.27it/s, train_loss=0.243]\n",
      "Train Epoch [0596/1000]: 100%|██████████| 63/63 [00:00<00:00, 311.01it/s, train_loss=0.242]\n",
      "Train Epoch [0597/1000]: 100%|██████████| 63/63 [00:00<00:00, 281.15it/s, train_loss=0.242]\n",
      "Train Epoch [0598/1000]: 100%|██████████| 63/63 [00:00<00:00, 309.37it/s, train_loss=0.241]\n",
      "Train Epoch [0599/1000]: 100%|██████████| 63/63 [00:00<00:00, 319.51it/s, train_loss=0.241]\n",
      "Train Epoch [0600/1000]: 100%|██████████| 63/63 [00:00<00:00, 269.18it/s, train_loss=0.241]\n"
     ]
    },
    {
     "name": "stdout",
     "output_type": "stream",
     "text": [
      "====================================================================================================\n",
      "Model Validation:\n"
     ]
    },
    {
     "name": "stderr",
     "output_type": "stream",
     "text": [
      "Val Epoch: 100%|██████████| 14/14 [00:00<00:00, 359.22it/s, val_loss=0.0238]\n"
     ]
    },
    {
     "name": "stdout",
     "output_type": "stream",
     "text": [
      "====================================================================================================\n"
     ]
    },
    {
     "name": "stderr",
     "output_type": "stream",
     "text": [
      "Train Epoch [0601/1000]: 100%|██████████| 63/63 [00:00<00:00, 283.62it/s, train_loss=0.24] \n",
      "Train Epoch [0602/1000]: 100%|██████████| 63/63 [00:00<00:00, 307.63it/s, train_loss=0.24]\n",
      "Train Epoch [0603/1000]: 100%|██████████| 63/63 [00:00<00:00, 306.63it/s, train_loss=0.24]\n",
      "Train Epoch [0604/1000]: 100%|██████████| 63/63 [00:00<00:00, 310.73it/s, train_loss=0.239]\n",
      "Train Epoch [0605/1000]: 100%|██████████| 63/63 [00:00<00:00, 293.02it/s, train_loss=0.239]\n",
      "Train Epoch [0606/1000]: 100%|██████████| 63/63 [00:00<00:00, 279.60it/s, train_loss=0.238]\n",
      "Train Epoch [0607/1000]: 100%|██████████| 63/63 [00:00<00:00, 270.29it/s, train_loss=0.238]\n",
      "Train Epoch [0608/1000]: 100%|██████████| 63/63 [00:00<00:00, 314.37it/s, train_loss=0.238]\n",
      "Train Epoch [0609/1000]: 100%|██████████| 63/63 [00:00<00:00, 279.51it/s, train_loss=0.237]\n",
      "Train Epoch [0610/1000]: 100%|██████████| 63/63 [00:00<00:00, 283.18it/s, train_loss=0.237]\n",
      "Train Epoch [0611/1000]: 100%|██████████| 63/63 [00:00<00:00, 247.44it/s, train_loss=0.237]\n",
      "Train Epoch [0612/1000]: 100%|██████████| 63/63 [00:00<00:00, 273.35it/s, train_loss=0.236]\n",
      "Train Epoch [0613/1000]: 100%|██████████| 63/63 [00:00<00:00, 293.42it/s, train_loss=0.236]\n",
      "Train Epoch [0614/1000]: 100%|██████████| 63/63 [00:00<00:00, 279.21it/s, train_loss=0.235]\n",
      "Train Epoch [0615/1000]: 100%|██████████| 63/63 [00:00<00:00, 224.33it/s, train_loss=0.235]\n",
      "Train Epoch [0616/1000]: 100%|██████████| 63/63 [00:00<00:00, 255.42it/s, train_loss=0.235]\n",
      "Train Epoch [0617/1000]: 100%|██████████| 63/63 [00:00<00:00, 257.98it/s, train_loss=0.234]\n",
      "Train Epoch [0618/1000]: 100%|██████████| 63/63 [00:00<00:00, 248.48it/s, train_loss=0.234]\n",
      "Train Epoch [0619/1000]: 100%|██████████| 63/63 [00:00<00:00, 282.74it/s, train_loss=0.234]\n",
      "Train Epoch [0620/1000]: 100%|██████████| 63/63 [00:00<00:00, 272.42it/s, train_loss=0.233]\n"
     ]
    },
    {
     "name": "stdout",
     "output_type": "stream",
     "text": [
      "====================================================================================================\n",
      "Model Validation:\n"
     ]
    },
    {
     "name": "stderr",
     "output_type": "stream",
     "text": [
      "Val Epoch: 100%|██████████| 14/14 [00:00<00:00, 466.70it/s, val_loss=0.0235]\n"
     ]
    },
    {
     "name": "stdout",
     "output_type": "stream",
     "text": [
      "====================================================================================================\n"
     ]
    },
    {
     "name": "stderr",
     "output_type": "stream",
     "text": [
      "Train Epoch [0621/1000]: 100%|██████████| 63/63 [00:00<00:00, 283.84it/s, train_loss=0.233]\n",
      "Train Epoch [0622/1000]: 100%|██████████| 63/63 [00:00<00:00, 250.94it/s, train_loss=0.233]\n",
      "Train Epoch [0623/1000]: 100%|██████████| 63/63 [00:00<00:00, 288.76it/s, train_loss=0.232]\n",
      "Train Epoch [0624/1000]: 100%|██████████| 63/63 [00:00<00:00, 301.21it/s, train_loss=0.232]\n",
      "Train Epoch [0625/1000]: 100%|██████████| 63/63 [00:00<00:00, 293.79it/s, train_loss=0.231]\n",
      "Train Epoch [0626/1000]: 100%|██████████| 63/63 [00:00<00:00, 297.93it/s, train_loss=0.231]\n",
      "Train Epoch [0627/1000]: 100%|██████████| 63/63 [00:00<00:00, 279.76it/s, train_loss=0.231]\n",
      "Train Epoch [0628/1000]: 100%|██████████| 63/63 [00:00<00:00, 284.42it/s, train_loss=0.23] \n",
      "Train Epoch [0629/1000]: 100%|██████████| 63/63 [00:00<00:00, 296.21it/s, train_loss=0.23]\n",
      "Train Epoch [0630/1000]: 100%|██████████| 63/63 [00:00<00:00, 279.51it/s, train_loss=0.23]\n",
      "Train Epoch [0631/1000]: 100%|██████████| 63/63 [00:00<00:00, 280.86it/s, train_loss=0.229]\n",
      "Train Epoch [0632/1000]: 100%|██████████| 63/63 [00:00<00:00, 275.50it/s, train_loss=0.229]\n",
      "Train Epoch [0633/1000]: 100%|██████████| 63/63 [00:00<00:00, 295.94it/s, train_loss=0.229]\n",
      "Train Epoch [0634/1000]: 100%|██████████| 63/63 [00:00<00:00, 256.39it/s, train_loss=0.228]\n",
      "Train Epoch [0635/1000]: 100%|██████████| 63/63 [00:00<00:00, 227.65it/s, train_loss=0.228]\n",
      "Train Epoch [0636/1000]: 100%|██████████| 63/63 [00:00<00:00, 202.33it/s, train_loss=0.228]\n",
      "Train Epoch [0637/1000]: 100%|██████████| 63/63 [00:00<00:00, 256.54it/s, train_loss=0.227]\n",
      "Train Epoch [0638/1000]: 100%|██████████| 63/63 [00:00<00:00, 289.14it/s, train_loss=0.227]\n",
      "Train Epoch [0639/1000]: 100%|██████████| 63/63 [00:00<00:00, 289.07it/s, train_loss=0.227]\n",
      "Train Epoch [0640/1000]: 100%|██████████| 63/63 [00:00<00:00, 281.04it/s, train_loss=0.226]\n"
     ]
    },
    {
     "name": "stdout",
     "output_type": "stream",
     "text": [
      "====================================================================================================\n",
      "Model Validation:\n"
     ]
    },
    {
     "name": "stderr",
     "output_type": "stream",
     "text": [
      "Val Epoch: 100%|██████████| 14/14 [00:00<00:00, 403.77it/s, val_loss=0.024]\n"
     ]
    },
    {
     "name": "stdout",
     "output_type": "stream",
     "text": [
      "====================================================================================================\n"
     ]
    },
    {
     "name": "stderr",
     "output_type": "stream",
     "text": [
      "Train Epoch [0641/1000]: 100%|██████████| 63/63 [00:00<00:00, 283.59it/s, train_loss=0.226]\n",
      "Train Epoch [0642/1000]: 100%|██████████| 63/63 [00:00<00:00, 237.66it/s, train_loss=0.226]\n",
      "Train Epoch [0643/1000]: 100%|██████████| 63/63 [00:00<00:00, 275.39it/s, train_loss=0.225]\n",
      "Train Epoch [0644/1000]: 100%|██████████| 63/63 [00:00<00:00, 288.14it/s, train_loss=0.225]\n",
      "Train Epoch [0645/1000]: 100%|██████████| 63/63 [00:00<00:00, 312.13it/s, train_loss=0.225]\n",
      "Train Epoch [0646/1000]: 100%|██████████| 63/63 [00:00<00:00, 285.58it/s, train_loss=0.224]\n",
      "Train Epoch [0647/1000]: 100%|██████████| 63/63 [00:00<00:00, 292.54it/s, train_loss=0.224]\n",
      "Train Epoch [0648/1000]: 100%|██████████| 63/63 [00:00<00:00, 274.19it/s, train_loss=0.224]\n",
      "Train Epoch [0649/1000]: 100%|██████████| 63/63 [00:00<00:00, 265.84it/s, train_loss=0.223]\n",
      "Train Epoch [0650/1000]: 100%|██████████| 63/63 [00:00<00:00, 270.84it/s, train_loss=0.223]\n",
      "Train Epoch [0651/1000]: 100%|██████████| 63/63 [00:00<00:00, 244.99it/s, train_loss=0.223]\n",
      "Train Epoch [0652/1000]: 100%|██████████| 63/63 [00:00<00:00, 270.81it/s, train_loss=0.222]\n",
      "Train Epoch [0653/1000]: 100%|██████████| 63/63 [00:00<00:00, 260.68it/s, train_loss=0.222]\n",
      "Train Epoch [0654/1000]: 100%|██████████| 63/63 [00:00<00:00, 236.81it/s, train_loss=0.222]\n",
      "Train Epoch [0655/1000]: 100%|██████████| 63/63 [00:00<00:00, 274.51it/s, train_loss=0.221]\n",
      "Train Epoch [0656/1000]: 100%|██████████| 63/63 [00:00<00:00, 266.78it/s, train_loss=0.221]\n",
      "Train Epoch [0657/1000]: 100%|██████████| 63/63 [00:00<00:00, 269.52it/s, train_loss=0.221]\n",
      "Train Epoch [0658/1000]: 100%|██████████| 63/63 [00:00<00:00, 289.50it/s, train_loss=0.22] \n",
      "Train Epoch [0659/1000]: 100%|██████████| 63/63 [00:00<00:00, 287.53it/s, train_loss=0.22]\n",
      "Train Epoch [0660/1000]: 100%|██████████| 63/63 [00:00<00:00, 307.95it/s, train_loss=0.22]\n"
     ]
    },
    {
     "name": "stdout",
     "output_type": "stream",
     "text": [
      "====================================================================================================\n",
      "Model Validation:\n"
     ]
    },
    {
     "name": "stderr",
     "output_type": "stream",
     "text": [
      "Val Epoch: 100%|██████████| 14/14 [00:00<00:00, 429.60it/s, val_loss=0.0208]\n"
     ]
    },
    {
     "name": "stdout",
     "output_type": "stream",
     "text": [
      "====================================================================================================\n"
     ]
    },
    {
     "name": "stderr",
     "output_type": "stream",
     "text": [
      "Train Epoch [0661/1000]: 100%|██████████| 63/63 [00:00<00:00, 292.15it/s, train_loss=0.219]\n",
      "Train Epoch [0662/1000]: 100%|██████████| 63/63 [00:00<00:00, 304.16it/s, train_loss=0.219]\n",
      "Train Epoch [0663/1000]: 100%|██████████| 63/63 [00:00<00:00, 295.57it/s, train_loss=0.219]\n",
      "Train Epoch [0664/1000]: 100%|██████████| 63/63 [00:00<00:00, 294.82it/s, train_loss=0.218]\n",
      "Train Epoch [0665/1000]: 100%|██████████| 63/63 [00:00<00:00, 286.51it/s, train_loss=0.218]\n",
      "Train Epoch [0666/1000]: 100%|██████████| 63/63 [00:00<00:00, 269.27it/s, train_loss=0.218]\n",
      "Train Epoch [0667/1000]: 100%|██████████| 63/63 [00:00<00:00, 292.54it/s, train_loss=0.218]\n",
      "Train Epoch [0668/1000]: 100%|██████████| 63/63 [00:00<00:00, 300.71it/s, train_loss=0.217]\n",
      "Train Epoch [0669/1000]: 100%|██████████| 63/63 [00:00<00:00, 297.99it/s, train_loss=0.217]\n",
      "Train Epoch [0670/1000]: 100%|██████████| 63/63 [00:00<00:00, 295.58it/s, train_loss=0.217]\n",
      "Train Epoch [0671/1000]: 100%|██████████| 63/63 [00:00<00:00, 304.55it/s, train_loss=0.216]\n",
      "Train Epoch [0672/1000]: 100%|██████████| 63/63 [00:00<00:00, 300.17it/s, train_loss=0.216]\n",
      "Train Epoch [0673/1000]: 100%|██████████| 63/63 [00:00<00:00, 276.61it/s, train_loss=0.216]\n",
      "Train Epoch [0674/1000]: 100%|██████████| 63/63 [00:00<00:00, 303.23it/s, train_loss=0.215]\n",
      "Train Epoch [0675/1000]: 100%|██████████| 63/63 [00:00<00:00, 295.52it/s, train_loss=0.215]\n",
      "Train Epoch [0676/1000]: 100%|██████████| 63/63 [00:00<00:00, 292.14it/s, train_loss=0.215]\n",
      "Train Epoch [0677/1000]: 100%|██████████| 63/63 [00:00<00:00, 307.37it/s, train_loss=0.214]\n",
      "Train Epoch [0678/1000]: 100%|██████████| 63/63 [00:00<00:00, 284.44it/s, train_loss=0.214]\n",
      "Train Epoch [0679/1000]: 100%|██████████| 63/63 [00:00<00:00, 283.87it/s, train_loss=0.214]\n",
      "Train Epoch [0680/1000]: 100%|██████████| 63/63 [00:00<00:00, 293.27it/s, train_loss=0.214]\n"
     ]
    },
    {
     "name": "stdout",
     "output_type": "stream",
     "text": [
      "====================================================================================================\n",
      "Model Validation:\n"
     ]
    },
    {
     "name": "stderr",
     "output_type": "stream",
     "text": [
      "Val Epoch: 100%|██████████| 14/14 [00:00<00:00, 359.95it/s, val_loss=0.0234]\n"
     ]
    },
    {
     "name": "stdout",
     "output_type": "stream",
     "text": [
      "====================================================================================================\n"
     ]
    },
    {
     "name": "stderr",
     "output_type": "stream",
     "text": [
      "Train Epoch [0681/1000]: 100%|██████████| 63/63 [00:00<00:00, 289.86it/s, train_loss=0.213]\n",
      "Train Epoch [0682/1000]: 100%|██████████| 63/63 [00:00<00:00, 288.27it/s, train_loss=0.213]\n",
      "Train Epoch [0683/1000]: 100%|██████████| 63/63 [00:00<00:00, 306.36it/s, train_loss=0.213]\n",
      "Train Epoch [0684/1000]: 100%|██████████| 63/63 [00:00<00:00, 308.73it/s, train_loss=0.212]\n",
      "Train Epoch [0685/1000]: 100%|██████████| 63/63 [00:00<00:00, 286.89it/s, train_loss=0.212]\n",
      "Train Epoch [0686/1000]: 100%|██████████| 63/63 [00:00<00:00, 277.09it/s, train_loss=0.212]\n",
      "Train Epoch [0687/1000]: 100%|██████████| 63/63 [00:00<00:00, 307.38it/s, train_loss=0.211]\n",
      "Train Epoch [0688/1000]: 100%|██████████| 63/63 [00:00<00:00, 291.06it/s, train_loss=0.211]\n",
      "Train Epoch [0689/1000]: 100%|██████████| 63/63 [00:00<00:00, 274.76it/s, train_loss=0.211]\n",
      "Train Epoch [0690/1000]: 100%|██████████| 63/63 [00:00<00:00, 319.56it/s, train_loss=0.211]\n",
      "Train Epoch [0691/1000]: 100%|██████████| 63/63 [00:00<00:00, 302.57it/s, train_loss=0.21]\n",
      "Train Epoch [0692/1000]: 100%|██████████| 63/63 [00:00<00:00, 289.17it/s, train_loss=0.21]\n",
      "Train Epoch [0693/1000]: 100%|██████████| 63/63 [00:00<00:00, 293.67it/s, train_loss=0.21]\n",
      "Train Epoch [0694/1000]: 100%|██████████| 63/63 [00:00<00:00, 293.96it/s, train_loss=0.209]\n",
      "Train Epoch [0695/1000]: 100%|██████████| 63/63 [00:00<00:00, 285.19it/s, train_loss=0.209]\n",
      "Train Epoch [0696/1000]: 100%|██████████| 63/63 [00:00<00:00, 303.95it/s, train_loss=0.209]\n",
      "Train Epoch [0697/1000]: 100%|██████████| 63/63 [00:00<00:00, 293.32it/s, train_loss=0.209]\n",
      "Train Epoch [0698/1000]: 100%|██████████| 63/63 [00:00<00:00, 284.60it/s, train_loss=0.208]\n",
      "Train Epoch [0699/1000]: 100%|██████████| 63/63 [00:00<00:00, 268.35it/s, train_loss=0.208]\n",
      "Train Epoch [0700/1000]: 100%|██████████| 63/63 [00:00<00:00, 296.73it/s, train_loss=0.208]\n"
     ]
    },
    {
     "name": "stdout",
     "output_type": "stream",
     "text": [
      "====================================================================================================\n",
      "Model Validation:\n"
     ]
    },
    {
     "name": "stderr",
     "output_type": "stream",
     "text": [
      "Val Epoch: 100%|██████████| 14/14 [00:00<00:00, 452.83it/s, val_loss=0.0191]\n"
     ]
    },
    {
     "name": "stdout",
     "output_type": "stream",
     "text": [
      "====================================================================================================\n"
     ]
    },
    {
     "name": "stderr",
     "output_type": "stream",
     "text": [
      "Train Epoch [0701/1000]: 100%|██████████| 63/63 [00:00<00:00, 309.41it/s, train_loss=0.207]\n",
      "Train Epoch [0702/1000]: 100%|██████████| 63/63 [00:00<00:00, 321.06it/s, train_loss=0.207]\n",
      "Train Epoch [0703/1000]: 100%|██████████| 63/63 [00:00<00:00, 290.73it/s, train_loss=0.207]\n",
      "Train Epoch [0704/1000]: 100%|██████████| 63/63 [00:00<00:00, 292.77it/s, train_loss=0.207]\n",
      "Train Epoch [0705/1000]: 100%|██████████| 63/63 [00:00<00:00, 307.42it/s, train_loss=0.206]\n",
      "Train Epoch [0706/1000]: 100%|██████████| 63/63 [00:00<00:00, 305.50it/s, train_loss=0.206]\n",
      "Train Epoch [0707/1000]: 100%|██████████| 63/63 [00:00<00:00, 293.86it/s, train_loss=0.206]\n",
      "Train Epoch [0708/1000]: 100%|██████████| 63/63 [00:00<00:00, 304.22it/s, train_loss=0.205]\n",
      "Train Epoch [0709/1000]: 100%|██████████| 63/63 [00:00<00:00, 308.82it/s, train_loss=0.205]\n",
      "Train Epoch [0710/1000]: 100%|██████████| 63/63 [00:00<00:00, 287.51it/s, train_loss=0.205]\n",
      "Train Epoch [0711/1000]: 100%|██████████| 63/63 [00:00<00:00, 289.09it/s, train_loss=0.205]\n",
      "Train Epoch [0712/1000]: 100%|██████████| 63/63 [00:00<00:00, 278.01it/s, train_loss=0.204]\n",
      "Train Epoch [0713/1000]: 100%|██████████| 63/63 [00:00<00:00, 300.59it/s, train_loss=0.204]\n",
      "Train Epoch [0714/1000]: 100%|██████████| 63/63 [00:00<00:00, 292.51it/s, train_loss=0.204]\n",
      "Train Epoch [0715/1000]: 100%|██████████| 63/63 [00:00<00:00, 305.31it/s, train_loss=0.204]\n",
      "Train Epoch [0716/1000]: 100%|██████████| 63/63 [00:00<00:00, 296.40it/s, train_loss=0.203]\n",
      "Train Epoch [0717/1000]: 100%|██████████| 63/63 [00:00<00:00, 324.39it/s, train_loss=0.203]\n",
      "Train Epoch [0718/1000]: 100%|██████████| 63/63 [00:00<00:00, 297.26it/s, train_loss=0.203]\n",
      "Train Epoch [0719/1000]: 100%|██████████| 63/63 [00:00<00:00, 274.19it/s, train_loss=0.202]\n",
      "Train Epoch [0720/1000]: 100%|██████████| 63/63 [00:00<00:00, 288.99it/s, train_loss=0.202]\n"
     ]
    },
    {
     "name": "stdout",
     "output_type": "stream",
     "text": [
      "====================================================================================================\n",
      "Model Validation:\n"
     ]
    },
    {
     "name": "stderr",
     "output_type": "stream",
     "text": [
      "Val Epoch: 100%|██████████| 14/14 [00:00<00:00, 438.62it/s, val_loss=0.0198]\n"
     ]
    },
    {
     "name": "stdout",
     "output_type": "stream",
     "text": [
      "====================================================================================================\n"
     ]
    },
    {
     "name": "stderr",
     "output_type": "stream",
     "text": [
      "Train Epoch [0721/1000]: 100%|██████████| 63/63 [00:00<00:00, 296.95it/s, train_loss=0.202]\n",
      "Train Epoch [0722/1000]: 100%|██████████| 63/63 [00:00<00:00, 284.60it/s, train_loss=0.202]\n",
      "Train Epoch [0723/1000]: 100%|██████████| 63/63 [00:00<00:00, 308.44it/s, train_loss=0.201]\n",
      "Train Epoch [0724/1000]: 100%|██████████| 63/63 [00:00<00:00, 307.31it/s, train_loss=0.201]\n",
      "Train Epoch [0725/1000]: 100%|██████████| 63/63 [00:00<00:00, 315.80it/s, train_loss=0.201]\n",
      "Train Epoch [0726/1000]: 100%|██████████| 63/63 [00:00<00:00, 311.17it/s, train_loss=0.201]\n",
      "Train Epoch [0727/1000]: 100%|██████████| 63/63 [00:00<00:00, 303.25it/s, train_loss=0.2]\n",
      "Train Epoch [0728/1000]: 100%|██████████| 63/63 [00:00<00:00, 303.36it/s, train_loss=0.2]\n",
      "Train Epoch [0729/1000]: 100%|██████████| 63/63 [00:00<00:00, 302.27it/s, train_loss=0.2]\n",
      "Train Epoch [0730/1000]: 100%|██████████| 63/63 [00:00<00:00, 304.26it/s, train_loss=0.2]\n",
      "Train Epoch [0731/1000]: 100%|██████████| 63/63 [00:00<00:00, 289.89it/s, train_loss=0.199]\n",
      "Train Epoch [0732/1000]: 100%|██████████| 63/63 [00:00<00:00, 300.80it/s, train_loss=0.199]\n",
      "Train Epoch [0733/1000]: 100%|██████████| 63/63 [00:00<00:00, 325.30it/s, train_loss=0.199]\n",
      "Train Epoch [0734/1000]: 100%|██████████| 63/63 [00:00<00:00, 283.24it/s, train_loss=0.198]\n",
      "Train Epoch [0735/1000]: 100%|██████████| 63/63 [00:00<00:00, 299.73it/s, train_loss=0.198]\n",
      "Train Epoch [0736/1000]: 100%|██████████| 63/63 [00:00<00:00, 308.14it/s, train_loss=0.198]\n",
      "Train Epoch [0737/1000]: 100%|██████████| 63/63 [00:00<00:00, 286.06it/s, train_loss=0.198]\n",
      "Train Epoch [0738/1000]: 100%|██████████| 63/63 [00:00<00:00, 298.03it/s, train_loss=0.197]\n",
      "Train Epoch [0739/1000]: 100%|██████████| 63/63 [00:00<00:00, 293.24it/s, train_loss=0.197]\n",
      "Train Epoch [0740/1000]: 100%|██████████| 63/63 [00:00<00:00, 272.55it/s, train_loss=0.197]\n"
     ]
    },
    {
     "name": "stdout",
     "output_type": "stream",
     "text": [
      "====================================================================================================\n",
      "Model Validation:\n"
     ]
    },
    {
     "name": "stderr",
     "output_type": "stream",
     "text": [
      "Val Epoch: 100%|██████████| 14/14 [00:00<00:00, 412.87it/s, val_loss=0.0212]\n"
     ]
    },
    {
     "name": "stdout",
     "output_type": "stream",
     "text": [
      "====================================================================================================\n"
     ]
    },
    {
     "name": "stderr",
     "output_type": "stream",
     "text": [
      "Train Epoch [0741/1000]: 100%|██████████| 63/63 [00:00<00:00, 310.97it/s, train_loss=0.197]\n",
      "Train Epoch [0742/1000]: 100%|██████████| 63/63 [00:00<00:00, 297.04it/s, train_loss=0.196]\n",
      "Train Epoch [0743/1000]: 100%|██████████| 63/63 [00:00<00:00, 318.88it/s, train_loss=0.196]\n",
      "Train Epoch [0744/1000]: 100%|██████████| 63/63 [00:00<00:00, 297.76it/s, train_loss=0.196]\n",
      "Train Epoch [0745/1000]: 100%|██████████| 63/63 [00:00<00:00, 288.00it/s, train_loss=0.196]\n",
      "Train Epoch [0746/1000]: 100%|██████████| 63/63 [00:00<00:00, 305.19it/s, train_loss=0.195]\n",
      "Train Epoch [0747/1000]: 100%|██████████| 63/63 [00:00<00:00, 309.00it/s, train_loss=0.195]\n",
      "Train Epoch [0748/1000]: 100%|██████████| 63/63 [00:00<00:00, 287.24it/s, train_loss=0.195]\n",
      "Train Epoch [0749/1000]: 100%|██████████| 63/63 [00:00<00:00, 298.58it/s, train_loss=0.195]\n",
      "Train Epoch [0750/1000]: 100%|██████████| 63/63 [00:00<00:00, 299.01it/s, train_loss=0.194]\n",
      "Train Epoch [0751/1000]: 100%|██████████| 63/63 [00:00<00:00, 305.84it/s, train_loss=0.194]\n",
      "Train Epoch [0752/1000]: 100%|██████████| 63/63 [00:00<00:00, 292.16it/s, train_loss=0.194]\n",
      "Train Epoch [0753/1000]: 100%|██████████| 63/63 [00:00<00:00, 311.62it/s, train_loss=0.194]\n",
      "Train Epoch [0754/1000]: 100%|██████████| 63/63 [00:00<00:00, 305.73it/s, train_loss=0.193]\n",
      "Train Epoch [0755/1000]: 100%|██████████| 63/63 [00:00<00:00, 305.91it/s, train_loss=0.193]\n",
      "Train Epoch [0756/1000]: 100%|██████████| 63/63 [00:00<00:00, 273.78it/s, train_loss=0.193]\n",
      "Train Epoch [0757/1000]: 100%|██████████| 63/63 [00:00<00:00, 272.43it/s, train_loss=0.193]\n",
      "Train Epoch [0758/1000]: 100%|██████████| 63/63 [00:00<00:00, 286.98it/s, train_loss=0.192]\n",
      "Train Epoch [0759/1000]: 100%|██████████| 63/63 [00:00<00:00, 281.15it/s, train_loss=0.192]\n",
      "Train Epoch [0760/1000]: 100%|██████████| 63/63 [00:00<00:00, 298.57it/s, train_loss=0.192]\n"
     ]
    },
    {
     "name": "stdout",
     "output_type": "stream",
     "text": [
      "====================================================================================================\n",
      "Model Validation:\n"
     ]
    },
    {
     "name": "stderr",
     "output_type": "stream",
     "text": [
      "Val Epoch: 100%|██████████| 14/14 [00:00<00:00, 394.96it/s, val_loss=0.0193]\n"
     ]
    },
    {
     "name": "stdout",
     "output_type": "stream",
     "text": [
      "====================================================================================================\n"
     ]
    },
    {
     "name": "stderr",
     "output_type": "stream",
     "text": [
      "Train Epoch [0761/1000]: 100%|██████████| 63/63 [00:00<00:00, 319.48it/s, train_loss=0.192]\n",
      "Train Epoch [0762/1000]: 100%|██████████| 63/63 [00:00<00:00, 285.80it/s, train_loss=0.191]\n",
      "Train Epoch [0763/1000]: 100%|██████████| 63/63 [00:00<00:00, 297.16it/s, train_loss=0.191]\n",
      "Train Epoch [0764/1000]: 100%|██████████| 63/63 [00:00<00:00, 291.78it/s, train_loss=0.191]\n",
      "Train Epoch [0765/1000]: 100%|██████████| 63/63 [00:00<00:00, 292.71it/s, train_loss=0.191]\n",
      "Train Epoch [0766/1000]: 100%|██████████| 63/63 [00:00<00:00, 302.47it/s, train_loss=0.191]\n",
      "Train Epoch [0767/1000]: 100%|██████████| 63/63 [00:00<00:00, 295.35it/s, train_loss=0.19]\n",
      "Train Epoch [0768/1000]: 100%|██████████| 63/63 [00:00<00:00, 295.03it/s, train_loss=0.19]\n",
      "Train Epoch [0769/1000]: 100%|██████████| 63/63 [00:00<00:00, 308.76it/s, train_loss=0.19]\n",
      "Train Epoch [0770/1000]: 100%|██████████| 63/63 [00:00<00:00, 298.55it/s, train_loss=0.19]\n",
      "Train Epoch [0771/1000]: 100%|██████████| 63/63 [00:00<00:00, 307.24it/s, train_loss=0.189]\n",
      "Train Epoch [0772/1000]: 100%|██████████| 63/63 [00:00<00:00, 308.60it/s, train_loss=0.189]\n",
      "Train Epoch [0773/1000]: 100%|██████████| 63/63 [00:00<00:00, 294.58it/s, train_loss=0.189]\n",
      "Train Epoch [0774/1000]: 100%|██████████| 63/63 [00:00<00:00, 298.34it/s, train_loss=0.189]\n",
      "Train Epoch [0775/1000]: 100%|██████████| 63/63 [00:00<00:00, 293.59it/s, train_loss=0.188]\n",
      "Train Epoch [0776/1000]: 100%|██████████| 63/63 [00:00<00:00, 308.14it/s, train_loss=0.188]\n",
      "Train Epoch [0777/1000]: 100%|██████████| 63/63 [00:00<00:00, 295.33it/s, train_loss=0.188]\n",
      "Train Epoch [0778/1000]: 100%|██████████| 63/63 [00:00<00:00, 313.08it/s, train_loss=0.188]\n",
      "Train Epoch [0779/1000]: 100%|██████████| 63/63 [00:00<00:00, 290.22it/s, train_loss=0.188]\n",
      "Train Epoch [0780/1000]: 100%|██████████| 63/63 [00:00<00:00, 305.04it/s, train_loss=0.187]\n"
     ]
    },
    {
     "name": "stdout",
     "output_type": "stream",
     "text": [
      "====================================================================================================\n",
      "Model Validation:\n"
     ]
    },
    {
     "name": "stderr",
     "output_type": "stream",
     "text": [
      "Val Epoch: 100%|██████████| 14/14 [00:00<00:00, 375.25it/s, val_loss=0.0193]\n"
     ]
    },
    {
     "name": "stdout",
     "output_type": "stream",
     "text": [
      "====================================================================================================\n"
     ]
    },
    {
     "name": "stderr",
     "output_type": "stream",
     "text": [
      "Train Epoch [0781/1000]: 100%|██████████| 63/63 [00:00<00:00, 309.37it/s, train_loss=0.187]\n",
      "Train Epoch [0782/1000]: 100%|██████████| 63/63 [00:00<00:00, 314.24it/s, train_loss=0.187]\n",
      "Train Epoch [0783/1000]: 100%|██████████| 63/63 [00:00<00:00, 308.70it/s, train_loss=0.187]\n",
      "Train Epoch [0784/1000]: 100%|██████████| 63/63 [00:00<00:00, 294.73it/s, train_loss=0.186]\n",
      "Train Epoch [0785/1000]: 100%|██████████| 63/63 [00:00<00:00, 278.83it/s, train_loss=0.186]\n",
      "Train Epoch [0786/1000]: 100%|██████████| 63/63 [00:00<00:00, 294.00it/s, train_loss=0.186]\n",
      "Train Epoch [0787/1000]: 100%|██████████| 63/63 [00:00<00:00, 312.06it/s, train_loss=0.186]\n",
      "Train Epoch [0788/1000]: 100%|██████████| 63/63 [00:00<00:00, 246.36it/s, train_loss=0.185]\n",
      "Train Epoch [0789/1000]: 100%|██████████| 63/63 [00:00<00:00, 277.20it/s, train_loss=0.185]\n",
      "Train Epoch [0790/1000]: 100%|██████████| 63/63 [00:00<00:00, 268.28it/s, train_loss=0.185]\n",
      "Train Epoch [0791/1000]: 100%|██████████| 63/63 [00:00<00:00, 259.89it/s, train_loss=0.185]\n",
      "Train Epoch [0792/1000]: 100%|██████████| 63/63 [00:00<00:00, 240.68it/s, train_loss=0.185]\n",
      "Train Epoch [0793/1000]: 100%|██████████| 63/63 [00:00<00:00, 274.75it/s, train_loss=0.184]\n",
      "Train Epoch [0794/1000]: 100%|██████████| 63/63 [00:00<00:00, 259.17it/s, train_loss=0.184]\n",
      "Train Epoch [0795/1000]: 100%|██████████| 63/63 [00:00<00:00, 249.13it/s, train_loss=0.184]\n",
      "Train Epoch [0796/1000]: 100%|██████████| 63/63 [00:00<00:00, 258.09it/s, train_loss=0.184]\n",
      "Train Epoch [0797/1000]: 100%|██████████| 63/63 [00:00<00:00, 284.08it/s, train_loss=0.183]\n",
      "Train Epoch [0798/1000]: 100%|██████████| 63/63 [00:00<00:00, 271.84it/s, train_loss=0.183]\n",
      "Train Epoch [0799/1000]: 100%|██████████| 63/63 [00:00<00:00, 309.70it/s, train_loss=0.183]\n",
      "Train Epoch [0800/1000]: 100%|██████████| 63/63 [00:00<00:00, 264.29it/s, train_loss=0.183]\n"
     ]
    },
    {
     "name": "stdout",
     "output_type": "stream",
     "text": [
      "====================================================================================================\n",
      "Model Validation:\n"
     ]
    },
    {
     "name": "stderr",
     "output_type": "stream",
     "text": [
      "Val Epoch: 100%|██████████| 14/14 [00:00<00:00, 384.50it/s, val_loss=0.0236]\n"
     ]
    },
    {
     "name": "stdout",
     "output_type": "stream",
     "text": [
      "====================================================================================================\n"
     ]
    },
    {
     "name": "stderr",
     "output_type": "stream",
     "text": [
      "Train Epoch [0801/1000]: 100%|██████████| 63/63 [00:00<00:00, 284.13it/s, train_loss=0.183]\n",
      "Train Epoch [0802/1000]: 100%|██████████| 63/63 [00:00<00:00, 259.79it/s, train_loss=0.182]\n",
      "Train Epoch [0803/1000]: 100%|██████████| 63/63 [00:00<00:00, 269.39it/s, train_loss=0.182]\n",
      "Train Epoch [0804/1000]: 100%|██████████| 63/63 [00:00<00:00, 298.08it/s, train_loss=0.182]\n",
      "Train Epoch [0805/1000]: 100%|██████████| 63/63 [00:00<00:00, 299.71it/s, train_loss=0.182]\n",
      "Train Epoch [0806/1000]: 100%|██████████| 63/63 [00:00<00:00, 307.77it/s, train_loss=0.182]\n",
      "Train Epoch [0807/1000]: 100%|██████████| 63/63 [00:00<00:00, 311.18it/s, train_loss=0.181]\n",
      "Train Epoch [0808/1000]: 100%|██████████| 63/63 [00:00<00:00, 261.06it/s, train_loss=0.181]\n",
      "Train Epoch [0809/1000]: 100%|██████████| 63/63 [00:00<00:00, 246.01it/s, train_loss=0.181]\n",
      "Train Epoch [0810/1000]: 100%|██████████| 63/63 [00:00<00:00, 256.93it/s, train_loss=0.181]\n",
      "Train Epoch [0811/1000]: 100%|██████████| 63/63 [00:00<00:00, 279.85it/s, train_loss=0.18] \n",
      "Train Epoch [0812/1000]: 100%|██████████| 63/63 [00:00<00:00, 273.28it/s, train_loss=0.18]\n",
      "Train Epoch [0813/1000]: 100%|██████████| 63/63 [00:00<00:00, 273.63it/s, train_loss=0.18]\n",
      "Train Epoch [0814/1000]: 100%|██████████| 63/63 [00:00<00:00, 283.57it/s, train_loss=0.18]\n",
      "Train Epoch [0815/1000]: 100%|██████████| 63/63 [00:00<00:00, 304.75it/s, train_loss=0.18]\n",
      "Train Epoch [0816/1000]: 100%|██████████| 63/63 [00:00<00:00, 298.38it/s, train_loss=0.179]\n",
      "Train Epoch [0817/1000]: 100%|██████████| 63/63 [00:00<00:00, 287.18it/s, train_loss=0.179]\n",
      "Train Epoch [0818/1000]: 100%|██████████| 63/63 [00:00<00:00, 303.28it/s, train_loss=0.179]\n",
      "Train Epoch [0819/1000]: 100%|██████████| 63/63 [00:00<00:00, 280.16it/s, train_loss=0.179]\n",
      "Train Epoch [0820/1000]: 100%|██████████| 63/63 [00:00<00:00, 281.60it/s, train_loss=0.179]\n"
     ]
    },
    {
     "name": "stdout",
     "output_type": "stream",
     "text": [
      "====================================================================================================\n",
      "Model Validation:\n"
     ]
    },
    {
     "name": "stderr",
     "output_type": "stream",
     "text": [
      "Val Epoch: 100%|██████████| 14/14 [00:00<00:00, 428.81it/s, val_loss=0.0303]\n"
     ]
    },
    {
     "name": "stdout",
     "output_type": "stream",
     "text": [
      "====================================================================================================\n"
     ]
    },
    {
     "name": "stderr",
     "output_type": "stream",
     "text": [
      "Train Epoch [0821/1000]: 100%|██████████| 63/63 [00:00<00:00, 287.48it/s, train_loss=0.178]\n",
      "Train Epoch [0822/1000]: 100%|██████████| 63/63 [00:00<00:00, 300.39it/s, train_loss=0.178]\n",
      "Train Epoch [0823/1000]: 100%|██████████| 63/63 [00:00<00:00, 292.42it/s, train_loss=0.178]\n",
      "Train Epoch [0824/1000]: 100%|██████████| 63/63 [00:00<00:00, 288.26it/s, train_loss=0.178]\n",
      "Train Epoch [0825/1000]: 100%|██████████| 63/63 [00:00<00:00, 275.90it/s, train_loss=0.178]\n",
      "Train Epoch [0826/1000]: 100%|██████████| 63/63 [00:00<00:00, 297.06it/s, train_loss=0.177]\n",
      "Train Epoch [0827/1000]: 100%|██████████| 63/63 [00:00<00:00, 281.76it/s, train_loss=0.177]\n",
      "Train Epoch [0828/1000]: 100%|██████████| 63/63 [00:00<00:00, 280.00it/s, train_loss=0.177]\n",
      "Train Epoch [0829/1000]: 100%|██████████| 63/63 [00:00<00:00, 307.34it/s, train_loss=0.177]\n",
      "Train Epoch [0830/1000]: 100%|██████████| 63/63 [00:00<00:00, 277.64it/s, train_loss=0.176]\n",
      "Train Epoch [0831/1000]: 100%|██████████| 63/63 [00:00<00:00, 283.08it/s, train_loss=0.176]\n",
      "Train Epoch [0832/1000]: 100%|██████████| 63/63 [00:00<00:00, 281.19it/s, train_loss=0.176]\n",
      "Train Epoch [0833/1000]: 100%|██████████| 63/63 [00:00<00:00, 304.73it/s, train_loss=0.176]\n",
      "Train Epoch [0834/1000]: 100%|██████████| 63/63 [00:00<00:00, 309.32it/s, train_loss=0.176]\n",
      "Train Epoch [0835/1000]: 100%|██████████| 63/63 [00:00<00:00, 275.78it/s, train_loss=0.175]\n",
      "Train Epoch [0836/1000]: 100%|██████████| 63/63 [00:00<00:00, 273.80it/s, train_loss=0.175]\n",
      "Train Epoch [0837/1000]: 100%|██████████| 63/63 [00:00<00:00, 303.47it/s, train_loss=0.175]\n",
      "Train Epoch [0838/1000]: 100%|██████████| 63/63 [00:00<00:00, 296.40it/s, train_loss=0.175]\n",
      "Train Epoch [0839/1000]: 100%|██████████| 63/63 [00:00<00:00, 285.83it/s, train_loss=0.175]\n",
      "Train Epoch [0840/1000]: 100%|██████████| 63/63 [00:00<00:00, 302.84it/s, train_loss=0.174]\n"
     ]
    },
    {
     "name": "stdout",
     "output_type": "stream",
     "text": [
      "====================================================================================================\n",
      "Model Validation:\n"
     ]
    },
    {
     "name": "stderr",
     "output_type": "stream",
     "text": [
      "Val Epoch: 100%|██████████| 14/14 [00:00<00:00, 450.48it/s, val_loss=0.0204]\n"
     ]
    },
    {
     "name": "stdout",
     "output_type": "stream",
     "text": [
      "====================================================================================================\n"
     ]
    },
    {
     "name": "stderr",
     "output_type": "stream",
     "text": [
      "Train Epoch [0841/1000]: 100%|██████████| 63/63 [00:00<00:00, 277.56it/s, train_loss=0.174]\n",
      "Train Epoch [0842/1000]: 100%|██████████| 63/63 [00:00<00:00, 323.68it/s, train_loss=0.174]\n",
      "Train Epoch [0843/1000]: 100%|██████████| 63/63 [00:00<00:00, 304.66it/s, train_loss=0.174]\n",
      "Train Epoch [0844/1000]: 100%|██████████| 63/63 [00:00<00:00, 314.26it/s, train_loss=0.174]\n",
      "Train Epoch [0845/1000]: 100%|██████████| 63/63 [00:00<00:00, 289.34it/s, train_loss=0.174]\n",
      "Train Epoch [0846/1000]: 100%|██████████| 63/63 [00:00<00:00, 297.79it/s, train_loss=0.173]\n",
      "Train Epoch [0847/1000]: 100%|██████████| 63/63 [00:00<00:00, 272.84it/s, train_loss=0.173]\n",
      "Train Epoch [0848/1000]: 100%|██████████| 63/63 [00:00<00:00, 283.27it/s, train_loss=0.173]\n",
      "Train Epoch [0849/1000]: 100%|██████████| 63/63 [00:00<00:00, 286.71it/s, train_loss=0.173]\n",
      "Train Epoch [0850/1000]: 100%|██████████| 63/63 [00:00<00:00, 258.21it/s, train_loss=0.173]\n",
      "Train Epoch [0851/1000]: 100%|██████████| 63/63 [00:00<00:00, 298.57it/s, train_loss=0.172]\n",
      "Train Epoch [0852/1000]: 100%|██████████| 63/63 [00:00<00:00, 289.43it/s, train_loss=0.172]\n",
      "Train Epoch [0853/1000]: 100%|██████████| 63/63 [00:00<00:00, 267.34it/s, train_loss=0.172]\n",
      "Train Epoch [0854/1000]: 100%|██████████| 63/63 [00:00<00:00, 287.45it/s, train_loss=0.172]\n",
      "Train Epoch [0855/1000]: 100%|██████████| 63/63 [00:00<00:00, 262.76it/s, train_loss=0.172]\n",
      "Train Epoch [0856/1000]: 100%|██████████| 63/63 [00:00<00:00, 292.45it/s, train_loss=0.171]\n",
      "Train Epoch [0857/1000]: 100%|██████████| 63/63 [00:00<00:00, 285.64it/s, train_loss=0.171]\n",
      "Train Epoch [0858/1000]: 100%|██████████| 63/63 [00:00<00:00, 303.96it/s, train_loss=0.171]\n",
      "Train Epoch [0859/1000]: 100%|██████████| 63/63 [00:00<00:00, 283.07it/s, train_loss=0.171]\n",
      "Train Epoch [0860/1000]: 100%|██████████| 63/63 [00:00<00:00, 303.94it/s, train_loss=0.171]\n"
     ]
    },
    {
     "name": "stdout",
     "output_type": "stream",
     "text": [
      "====================================================================================================\n",
      "Model Validation:\n"
     ]
    },
    {
     "name": "stderr",
     "output_type": "stream",
     "text": [
      "Val Epoch: 100%|██████████| 14/14 [00:00<00:00, 452.82it/s, val_loss=0.0207]\n"
     ]
    },
    {
     "name": "stdout",
     "output_type": "stream",
     "text": [
      "====================================================================================================\n"
     ]
    },
    {
     "name": "stderr",
     "output_type": "stream",
     "text": [
      "Train Epoch [0861/1000]: 100%|██████████| 63/63 [00:00<00:00, 290.49it/s, train_loss=0.17] \n",
      "Train Epoch [0862/1000]: 100%|██████████| 63/63 [00:00<00:00, 286.96it/s, train_loss=0.17]\n",
      "Train Epoch [0863/1000]: 100%|██████████| 63/63 [00:00<00:00, 308.95it/s, train_loss=0.17]\n",
      "Train Epoch [0864/1000]: 100%|██████████| 63/63 [00:00<00:00, 288.63it/s, train_loss=0.17]\n",
      "Train Epoch [0865/1000]: 100%|██████████| 63/63 [00:00<00:00, 300.51it/s, train_loss=0.17]\n",
      "Train Epoch [0866/1000]: 100%|██████████| 63/63 [00:00<00:00, 266.82it/s, train_loss=0.17]\n",
      "Train Epoch [0867/1000]: 100%|██████████| 63/63 [00:00<00:00, 279.47it/s, train_loss=0.169]\n",
      "Train Epoch [0868/1000]: 100%|██████████| 63/63 [00:00<00:00, 285.97it/s, train_loss=0.169]\n",
      "Train Epoch [0869/1000]: 100%|██████████| 63/63 [00:00<00:00, 281.64it/s, train_loss=0.169]\n",
      "Train Epoch [0870/1000]: 100%|██████████| 63/63 [00:00<00:00, 277.23it/s, train_loss=0.169]\n",
      "Train Epoch [0871/1000]: 100%|██████████| 63/63 [00:00<00:00, 299.64it/s, train_loss=0.169]\n",
      "Train Epoch [0872/1000]: 100%|██████████| 63/63 [00:00<00:00, 281.17it/s, train_loss=0.168]\n",
      "Train Epoch [0873/1000]: 100%|██████████| 63/63 [00:00<00:00, 275.81it/s, train_loss=0.168]\n",
      "Train Epoch [0874/1000]: 100%|██████████| 63/63 [00:00<00:00, 296.24it/s, train_loss=0.168]\n",
      "Train Epoch [0875/1000]: 100%|██████████| 63/63 [00:00<00:00, 293.25it/s, train_loss=0.168]\n",
      "Train Epoch [0876/1000]: 100%|██████████| 63/63 [00:00<00:00, 313.56it/s, train_loss=0.168]\n",
      "Train Epoch [0877/1000]: 100%|██████████| 63/63 [00:00<00:00, 298.07it/s, train_loss=0.167]\n",
      "Train Epoch [0878/1000]: 100%|██████████| 63/63 [00:00<00:00, 296.64it/s, train_loss=0.167]\n",
      "Train Epoch [0879/1000]: 100%|██████████| 63/63 [00:00<00:00, 303.29it/s, train_loss=0.167]\n",
      "Train Epoch [0880/1000]: 100%|██████████| 63/63 [00:00<00:00, 216.38it/s, train_loss=0.167]\n"
     ]
    },
    {
     "name": "stdout",
     "output_type": "stream",
     "text": [
      "====================================================================================================\n",
      "Model Validation:\n"
     ]
    },
    {
     "name": "stderr",
     "output_type": "stream",
     "text": [
      "Val Epoch: 100%|██████████| 14/14 [00:00<00:00, 381.02it/s, val_loss=0.021]\n"
     ]
    },
    {
     "name": "stdout",
     "output_type": "stream",
     "text": [
      "====================================================================================================\n"
     ]
    },
    {
     "name": "stderr",
     "output_type": "stream",
     "text": [
      "Train Epoch [0881/1000]: 100%|██████████| 63/63 [00:00<00:00, 291.51it/s, train_loss=0.167]\n",
      "Train Epoch [0882/1000]: 100%|██████████| 63/63 [00:00<00:00, 278.88it/s, train_loss=0.167]\n",
      "Train Epoch [0883/1000]: 100%|██████████| 63/63 [00:00<00:00, 288.59it/s, train_loss=0.166]\n",
      "Train Epoch [0884/1000]: 100%|██████████| 63/63 [00:00<00:00, 267.71it/s, train_loss=0.166]\n",
      "Train Epoch [0885/1000]: 100%|██████████| 63/63 [00:00<00:00, 295.32it/s, train_loss=0.166]\n",
      "Train Epoch [0886/1000]: 100%|██████████| 63/63 [00:00<00:00, 296.40it/s, train_loss=0.166]\n",
      "Train Epoch [0887/1000]: 100%|██████████| 63/63 [00:00<00:00, 279.55it/s, train_loss=0.166]\n",
      "Train Epoch [0888/1000]: 100%|██████████| 63/63 [00:00<00:00, 283.54it/s, train_loss=0.165]\n",
      "Train Epoch [0889/1000]: 100%|██████████| 63/63 [00:00<00:00, 289.57it/s, train_loss=0.165]\n",
      "Train Epoch [0890/1000]: 100%|██████████| 63/63 [00:00<00:00, 276.87it/s, train_loss=0.165]\n",
      "Train Epoch [0891/1000]: 100%|██████████| 63/63 [00:00<00:00, 239.66it/s, train_loss=0.165]\n",
      "Train Epoch [0892/1000]: 100%|██████████| 63/63 [00:00<00:00, 305.89it/s, train_loss=0.165]\n",
      "Train Epoch [0893/1000]: 100%|██████████| 63/63 [00:00<00:00, 265.51it/s, train_loss=0.165]\n",
      "Train Epoch [0894/1000]: 100%|██████████| 63/63 [00:00<00:00, 286.59it/s, train_loss=0.164]\n",
      "Train Epoch [0895/1000]: 100%|██████████| 63/63 [00:00<00:00, 294.41it/s, train_loss=0.164]\n",
      "Train Epoch [0896/1000]: 100%|██████████| 63/63 [00:00<00:00, 282.53it/s, train_loss=0.164]\n",
      "Train Epoch [0897/1000]: 100%|██████████| 63/63 [00:00<00:00, 247.48it/s, train_loss=0.164]\n",
      "Train Epoch [0898/1000]: 100%|██████████| 63/63 [00:00<00:00, 289.41it/s, train_loss=0.164]\n",
      "Train Epoch [0899/1000]: 100%|██████████| 63/63 [00:00<00:00, 258.84it/s, train_loss=0.164]\n",
      "Train Epoch [0900/1000]: 100%|██████████| 63/63 [00:00<00:00, 261.13it/s, train_loss=0.163]\n"
     ]
    },
    {
     "name": "stdout",
     "output_type": "stream",
     "text": [
      "====================================================================================================\n",
      "Model Validation:\n"
     ]
    },
    {
     "name": "stderr",
     "output_type": "stream",
     "text": [
      "Val Epoch: 100%|██████████| 14/14 [00:00<00:00, 407.26it/s, val_loss=0.0193]\n"
     ]
    },
    {
     "name": "stdout",
     "output_type": "stream",
     "text": [
      "====================================================================================================\n"
     ]
    },
    {
     "name": "stderr",
     "output_type": "stream",
     "text": [
      "Train Epoch [0901/1000]: 100%|██████████| 63/63 [00:00<00:00, 273.83it/s, train_loss=0.163]\n",
      "Train Epoch [0902/1000]: 100%|██████████| 63/63 [00:00<00:00, 259.43it/s, train_loss=0.163]\n",
      "Train Epoch [0903/1000]: 100%|██████████| 63/63 [00:00<00:00, 291.39it/s, train_loss=0.163]\n",
      "Train Epoch [0904/1000]: 100%|██████████| 63/63 [00:00<00:00, 267.24it/s, train_loss=0.163]\n",
      "Train Epoch [0905/1000]: 100%|██████████| 63/63 [00:00<00:00, 291.58it/s, train_loss=0.163]\n",
      "Train Epoch [0906/1000]: 100%|██████████| 63/63 [00:00<00:00, 302.48it/s, train_loss=0.162]\n",
      "Train Epoch [0907/1000]: 100%|██████████| 63/63 [00:00<00:00, 296.93it/s, train_loss=0.162]\n",
      "Train Epoch [0908/1000]: 100%|██████████| 63/63 [00:00<00:00, 299.55it/s, train_loss=0.162]\n",
      "Train Epoch [0909/1000]: 100%|██████████| 63/63 [00:00<00:00, 288.46it/s, train_loss=0.162]\n",
      "Train Epoch [0910/1000]: 100%|██████████| 63/63 [00:00<00:00, 299.44it/s, train_loss=0.162]\n",
      "Train Epoch [0911/1000]: 100%|██████████| 63/63 [00:00<00:00, 298.30it/s, train_loss=0.162]\n",
      "Train Epoch [0912/1000]: 100%|██████████| 63/63 [00:00<00:00, 329.06it/s, train_loss=0.161]\n",
      "Train Epoch [0913/1000]: 100%|██████████| 63/63 [00:00<00:00, 282.17it/s, train_loss=0.161]\n",
      "Train Epoch [0914/1000]: 100%|██████████| 63/63 [00:00<00:00, 285.84it/s, train_loss=0.161]\n",
      "Train Epoch [0915/1000]: 100%|██████████| 63/63 [00:00<00:00, 272.81it/s, train_loss=0.161]\n",
      "Train Epoch [0916/1000]: 100%|██████████| 63/63 [00:00<00:00, 310.64it/s, train_loss=0.161]\n",
      "Train Epoch [0917/1000]: 100%|██████████| 63/63 [00:00<00:00, 287.98it/s, train_loss=0.161]\n",
      "Train Epoch [0918/1000]: 100%|██████████| 63/63 [00:00<00:00, 296.03it/s, train_loss=0.16]\n",
      "Train Epoch [0919/1000]: 100%|██████████| 63/63 [00:00<00:00, 278.45it/s, train_loss=0.16]\n",
      "Train Epoch [0920/1000]: 100%|██████████| 63/63 [00:00<00:00, 269.24it/s, train_loss=0.16]\n"
     ]
    },
    {
     "name": "stdout",
     "output_type": "stream",
     "text": [
      "====================================================================================================\n",
      "Model Validation:\n"
     ]
    },
    {
     "name": "stderr",
     "output_type": "stream",
     "text": [
      "Val Epoch: 100%|██████████| 14/14 [00:00<00:00, 366.00it/s, val_loss=0.0183]\n"
     ]
    },
    {
     "name": "stdout",
     "output_type": "stream",
     "text": [
      "====================================================================================================\n"
     ]
    },
    {
     "name": "stderr",
     "output_type": "stream",
     "text": [
      "Train Epoch [0921/1000]: 100%|██████████| 63/63 [00:00<00:00, 278.00it/s, train_loss=0.16]\n",
      "Train Epoch [0922/1000]: 100%|██████████| 63/63 [00:00<00:00, 292.90it/s, train_loss=0.16]\n",
      "Train Epoch [0923/1000]: 100%|██████████| 63/63 [00:00<00:00, 297.64it/s, train_loss=0.16]\n",
      "Train Epoch [0924/1000]: 100%|██████████| 63/63 [00:00<00:00, 256.48it/s, train_loss=0.159]\n",
      "Train Epoch [0925/1000]: 100%|██████████| 63/63 [00:00<00:00, 306.43it/s, train_loss=0.159]\n",
      "Train Epoch [0926/1000]: 100%|██████████| 63/63 [00:00<00:00, 284.81it/s, train_loss=0.159]\n",
      "Train Epoch [0927/1000]: 100%|██████████| 63/63 [00:00<00:00, 274.87it/s, train_loss=0.159]\n",
      "Train Epoch [0928/1000]: 100%|██████████| 63/63 [00:00<00:00, 305.43it/s, train_loss=0.159]\n",
      "Train Epoch [0929/1000]: 100%|██████████| 63/63 [00:00<00:00, 288.69it/s, train_loss=0.159]\n",
      "Train Epoch [0930/1000]: 100%|██████████| 63/63 [00:00<00:00, 263.47it/s, train_loss=0.158]\n",
      "Train Epoch [0931/1000]: 100%|██████████| 63/63 [00:00<00:00, 287.55it/s, train_loss=0.158]\n",
      "Train Epoch [0932/1000]: 100%|██████████| 63/63 [00:00<00:00, 291.03it/s, train_loss=0.158]\n",
      "Train Epoch [0933/1000]: 100%|██████████| 63/63 [00:00<00:00, 315.36it/s, train_loss=0.158]\n",
      "Train Epoch [0934/1000]: 100%|██████████| 63/63 [00:00<00:00, 283.82it/s, train_loss=0.158]\n",
      "Train Epoch [0935/1000]: 100%|██████████| 63/63 [00:00<00:00, 311.32it/s, train_loss=0.158]\n",
      "Train Epoch [0936/1000]: 100%|██████████| 63/63 [00:00<00:00, 278.40it/s, train_loss=0.157]\n",
      "Train Epoch [0937/1000]: 100%|██████████| 63/63 [00:00<00:00, 286.21it/s, train_loss=0.157]\n",
      "Train Epoch [0938/1000]: 100%|██████████| 63/63 [00:00<00:00, 306.15it/s, train_loss=0.157]\n",
      "Train Epoch [0939/1000]: 100%|██████████| 63/63 [00:00<00:00, 302.87it/s, train_loss=0.157]\n",
      "Train Epoch [0940/1000]: 100%|██████████| 63/63 [00:00<00:00, 267.55it/s, train_loss=0.157]\n"
     ]
    },
    {
     "name": "stdout",
     "output_type": "stream",
     "text": [
      "====================================================================================================\n",
      "Model Validation:\n"
     ]
    },
    {
     "name": "stderr",
     "output_type": "stream",
     "text": [
      "Val Epoch: 100%|██████████| 14/14 [00:00<00:00, 440.94it/s, val_loss=0.0184]\n"
     ]
    },
    {
     "name": "stdout",
     "output_type": "stream",
     "text": [
      "====================================================================================================\n"
     ]
    },
    {
     "name": "stderr",
     "output_type": "stream",
     "text": [
      "Train Epoch [0941/1000]: 100%|██████████| 63/63 [00:00<00:00, 316.63it/s, train_loss=0.157]\n",
      "Train Epoch [0942/1000]: 100%|██████████| 63/63 [00:00<00:00, 291.08it/s, train_loss=0.156]\n",
      "Train Epoch [0943/1000]: 100%|██████████| 63/63 [00:00<00:00, 303.29it/s, train_loss=0.156]\n",
      "Train Epoch [0944/1000]: 100%|██████████| 63/63 [00:00<00:00, 288.69it/s, train_loss=0.156]\n",
      "Train Epoch [0945/1000]: 100%|██████████| 63/63 [00:00<00:00, 308.75it/s, train_loss=0.156]\n",
      "Train Epoch [0946/1000]: 100%|██████████| 63/63 [00:00<00:00, 287.02it/s, train_loss=0.156]\n",
      "Train Epoch [0947/1000]: 100%|██████████| 63/63 [00:00<00:00, 293.24it/s, train_loss=0.156]\n",
      "Train Epoch [0948/1000]: 100%|██████████| 63/63 [00:00<00:00, 320.83it/s, train_loss=0.156]\n",
      "Train Epoch [0949/1000]: 100%|██████████| 63/63 [00:00<00:00, 318.38it/s, train_loss=0.155]\n",
      "Train Epoch [0950/1000]: 100%|██████████| 63/63 [00:00<00:00, 311.76it/s, train_loss=0.155]\n",
      "Train Epoch [0951/1000]: 100%|██████████| 63/63 [00:00<00:00, 296.66it/s, train_loss=0.155]\n",
      "Train Epoch [0952/1000]: 100%|██████████| 63/63 [00:00<00:00, 294.98it/s, train_loss=0.155]\n",
      "Train Epoch [0953/1000]: 100%|██████████| 63/63 [00:00<00:00, 310.33it/s, train_loss=0.155]\n",
      "Train Epoch [0954/1000]: 100%|██████████| 63/63 [00:00<00:00, 311.19it/s, train_loss=0.155]\n",
      "Train Epoch [0955/1000]: 100%|██████████| 63/63 [00:00<00:00, 299.75it/s, train_loss=0.154]\n",
      "Train Epoch [0956/1000]: 100%|██████████| 63/63 [00:00<00:00, 300.83it/s, train_loss=0.154]\n",
      "Train Epoch [0957/1000]: 100%|██████████| 63/63 [00:00<00:00, 295.82it/s, train_loss=0.154]\n",
      "Train Epoch [0958/1000]: 100%|██████████| 63/63 [00:00<00:00, 319.61it/s, train_loss=0.154]\n",
      "Train Epoch [0959/1000]: 100%|██████████| 63/63 [00:00<00:00, 290.67it/s, train_loss=0.154]\n",
      "Train Epoch [0960/1000]: 100%|██████████| 63/63 [00:00<00:00, 291.67it/s, train_loss=0.154]\n"
     ]
    },
    {
     "name": "stdout",
     "output_type": "stream",
     "text": [
      "====================================================================================================\n",
      "Model Validation:\n"
     ]
    },
    {
     "name": "stderr",
     "output_type": "stream",
     "text": [
      "Val Epoch: 100%|██████████| 14/14 [00:00<00:00, 452.83it/s, val_loss=0.0185]\n"
     ]
    },
    {
     "name": "stdout",
     "output_type": "stream",
     "text": [
      "====================================================================================================\n"
     ]
    },
    {
     "name": "stderr",
     "output_type": "stream",
     "text": [
      "Train Epoch [0961/1000]: 100%|██████████| 63/63 [00:00<00:00, 291.55it/s, train_loss=0.154]\n",
      "Train Epoch [0962/1000]: 100%|██████████| 63/63 [00:00<00:00, 295.87it/s, train_loss=0.153]\n",
      "Train Epoch [0963/1000]: 100%|██████████| 63/63 [00:00<00:00, 308.86it/s, train_loss=0.153]\n",
      "Train Epoch [0964/1000]: 100%|██████████| 63/63 [00:00<00:00, 298.17it/s, train_loss=0.153]\n",
      "Train Epoch [0965/1000]: 100%|██████████| 63/63 [00:00<00:00, 281.69it/s, train_loss=0.153]\n",
      "Train Epoch [0966/1000]: 100%|██████████| 63/63 [00:00<00:00, 311.82it/s, train_loss=0.153]\n",
      "Train Epoch [0967/1000]: 100%|██████████| 63/63 [00:00<00:00, 306.99it/s, train_loss=0.153]\n",
      "Train Epoch [0968/1000]: 100%|██████████| 63/63 [00:00<00:00, 264.87it/s, train_loss=0.152]\n",
      "Train Epoch [0969/1000]: 100%|██████████| 63/63 [00:00<00:00, 306.34it/s, train_loss=0.152]\n",
      "Train Epoch [0970/1000]: 100%|██████████| 63/63 [00:00<00:00, 272.39it/s, train_loss=0.152]\n",
      "Train Epoch [0971/1000]: 100%|██████████| 63/63 [00:00<00:00, 262.91it/s, train_loss=0.152]\n",
      "Train Epoch [0972/1000]: 100%|██████████| 63/63 [00:00<00:00, 288.36it/s, train_loss=0.152]\n",
      "Train Epoch [0973/1000]: 100%|██████████| 63/63 [00:00<00:00, 258.61it/s, train_loss=0.152]\n",
      "Train Epoch [0974/1000]: 100%|██████████| 63/63 [00:00<00:00, 269.94it/s, train_loss=0.152]\n",
      "Train Epoch [0975/1000]: 100%|██████████| 63/63 [00:00<00:00, 275.12it/s, train_loss=0.151]\n",
      "Train Epoch [0976/1000]: 100%|██████████| 63/63 [00:00<00:00, 280.87it/s, train_loss=0.151]\n",
      "Train Epoch [0977/1000]: 100%|██████████| 63/63 [00:00<00:00, 303.27it/s, train_loss=0.151]\n",
      "Train Epoch [0978/1000]: 100%|██████████| 63/63 [00:00<00:00, 289.23it/s, train_loss=0.151]\n",
      "Train Epoch [0979/1000]: 100%|██████████| 63/63 [00:00<00:00, 289.01it/s, train_loss=0.151]\n",
      "Train Epoch [0980/1000]: 100%|██████████| 63/63 [00:00<00:00, 305.83it/s, train_loss=0.151]\n"
     ]
    },
    {
     "name": "stdout",
     "output_type": "stream",
     "text": [
      "====================================================================================================\n",
      "Model Validation:\n"
     ]
    },
    {
     "name": "stderr",
     "output_type": "stream",
     "text": [
      "Val Epoch: 100%|██████████| 14/14 [00:00<00:00, 445.46it/s, val_loss=0.0176]\n"
     ]
    },
    {
     "name": "stdout",
     "output_type": "stream",
     "text": [
      "====================================================================================================\n"
     ]
    },
    {
     "name": "stderr",
     "output_type": "stream",
     "text": [
      "Train Epoch [0981/1000]: 100%|██████████| 63/63 [00:00<00:00, 309.02it/s, train_loss=0.151]\n",
      "Train Epoch [0982/1000]: 100%|██████████| 63/63 [00:00<00:00, 259.56it/s, train_loss=0.15]\n",
      "Train Epoch [0983/1000]: 100%|██████████| 63/63 [00:00<00:00, 298.32it/s, train_loss=0.15]\n",
      "Train Epoch [0984/1000]: 100%|██████████| 63/63 [00:00<00:00, 283.63it/s, train_loss=0.15]\n",
      "Train Epoch [0985/1000]: 100%|██████████| 63/63 [00:00<00:00, 264.68it/s, train_loss=0.15]\n",
      "Train Epoch [0986/1000]: 100%|██████████| 63/63 [00:00<00:00, 285.92it/s, train_loss=0.15]\n",
      "Train Epoch [0987/1000]: 100%|██████████| 63/63 [00:00<00:00, 298.92it/s, train_loss=0.15]\n",
      "Train Epoch [0988/1000]: 100%|██████████| 63/63 [00:00<00:00, 312.38it/s, train_loss=0.15]\n",
      "Train Epoch [0989/1000]: 100%|██████████| 63/63 [00:00<00:00, 284.74it/s, train_loss=0.149]\n",
      "Train Epoch [0990/1000]: 100%|██████████| 63/63 [00:00<00:00, 308.48it/s, train_loss=0.149]\n",
      "Train Epoch [0991/1000]: 100%|██████████| 63/63 [00:00<00:00, 278.10it/s, train_loss=0.149]\n",
      "Train Epoch [0992/1000]: 100%|██████████| 63/63 [00:00<00:00, 276.26it/s, train_loss=0.149]\n",
      "Train Epoch [0993/1000]: 100%|██████████| 63/63 [00:00<00:00, 313.37it/s, train_loss=0.149]\n",
      "Train Epoch [0994/1000]: 100%|██████████| 63/63 [00:00<00:00, 319.11it/s, train_loss=0.149]\n",
      "Train Epoch [0995/1000]: 100%|██████████| 63/63 [00:00<00:00, 287.79it/s, train_loss=0.149]\n",
      "Train Epoch [0996/1000]: 100%|██████████| 63/63 [00:00<00:00, 297.65it/s, train_loss=0.148]\n",
      "Train Epoch [0997/1000]: 100%|██████████| 63/63 [00:00<00:00, 299.37it/s, train_loss=0.148]\n",
      "Train Epoch [0998/1000]: 100%|██████████| 63/63 [00:00<00:00, 278.70it/s, train_loss=0.148]\n",
      "Train Epoch [0999/1000]: 100%|██████████| 63/63 [00:00<00:00, 306.26it/s, train_loss=0.148]\n",
      "Train Epoch [1000/1000]: 100%|██████████| 63/63 [00:00<00:00, 285.67it/s, train_loss=0.148]\n"
     ]
    },
    {
     "name": "stdout",
     "output_type": "stream",
     "text": [
      "====================================================================================================\n",
      "Model Validation:\n"
     ]
    },
    {
     "name": "stderr",
     "output_type": "stream",
     "text": [
      "Val Epoch: 100%|██████████| 14/14 [00:00<00:00, 438.62it/s, val_loss=0.0233]"
     ]
    },
    {
     "name": "stdout",
     "output_type": "stream",
     "text": [
      "====================================================================================================\n"
     ]
    },
    {
     "name": "stderr",
     "output_type": "stream",
     "text": [
      "\n"
     ]
    }
   ],
   "source": [
    "if not test:\n",
    "    train_loss_show = AverageMeter()\n",
    "    print(\"=\" * 100)\n",
    "    for i in range(n_epoch):\n",
    "        model.train()\n",
    "        loop_train = tqdm(train_dataloader, total = len(train_dataloader))\n",
    "        for batch_data, batch_label, c_train in loop_train:\n",
    "            # batch_data = batch_data.cuda() \n",
    "            # batch_label = batch_label.cuda() \n",
    "            theta = model(batch_data)\n",
    "            optimizer.zero_grad()\n",
    "            predict_train = theta[:, 0].unsqueeze(1) * c_train[:, 0].unsqueeze(1) + theta[:, 1].unsqueeze(1) * c_train[:, 1].unsqueeze(1) + theta[:, 2].unsqueeze(1)\n",
    "            loss = loss_func(predict_train, batch_label)\n",
    "            loss.requires_grad_(True)\n",
    "            loss.backward() \n",
    "            optimizer.step()\n",
    "            train_loss_show.update(loss.data, 1)\n",
    "            loop_train.set_description(f'Train Epoch [{\"%04d\"}/{\"%04d\"}]' % (i+1, n_epoch))\n",
    "            loop_train.set_postfix({\"train_loss\":train_loss_show.average.item()})\n",
    "\n",
    "        if (i+1)%20 == 0:\n",
    "            print(\"=\" * 100)\n",
    "            print(\"Model Validation:\")\n",
    "            val_loss_show = AverageMeter()\n",
    "            loop_val = tqdm(val_dataloader, total = len(val_dataloader))\n",
    "            for batch_data, batch_label, c_val in loop_val:\n",
    "                theta = model(batch_data)\n",
    "                predict_val = theta[:, 0].unsqueeze(1) * c_val[:, 0].unsqueeze(1) + theta[:, 1].unsqueeze(1) * c_val[:, 1].unsqueeze(1) + theta[:, 2].unsqueeze(1)\n",
    "                loss = loss_func(predict_val, batch_label)\n",
    "                val_loss_show.update(loss.data, 1)\n",
    "                loop_val.set_description(f'Val Epoch')\n",
    "                loop_val.set_postfix({\"val_loss\":val_loss_show.average.item()})\n",
    "            print(\"=\" * 100)"
   ]
  },
  {
   "cell_type": "code",
   "execution_count": 7,
   "metadata": {},
   "outputs": [
    {
     "name": "stderr",
     "output_type": "stream",
     "text": [
      "Test: 100%|██████████| 14/14 [00:00<00:00, 455.57it/s, test_loss=0.023]"
     ]
    },
    {
     "name": "stdout",
     "output_type": "stream",
     "text": [
      "====================================================================================================\n"
     ]
    },
    {
     "name": "stderr",
     "output_type": "stream",
     "text": [
      "\n"
     ]
    }
   ],
   "source": [
    "test_loss_show = AverageMeter()\n",
    "prediction = torch.tensor([])\n",
    "label = torch.tensor([])\n",
    "if not all_test:\n",
    "    loop_test = tqdm(test_dataloader, total = len(test_dataloader))\n",
    "else:\n",
    "    loop_test = tqdm(dataloader, total = len(dataloader))\n",
    "for batch_data, batch_label, c_test in loop_test:\n",
    "        theta = model(batch_data)\n",
    "        predict_test = theta[:, 0].unsqueeze(1) * c_test[:, 0].unsqueeze(1) + theta[:, 1].unsqueeze(1) * c_test[:, 1].unsqueeze(1) + theta[:, 2].unsqueeze(1)\n",
    "        prediction = torch.concat([prediction, predict_test])\n",
    "        label = torch.concat([label, batch_label])\n",
    "        loss = loss_func(predict_test, batch_label)\n",
    "        test_loss_show.update(loss.data, 1)\n",
    "        loop_test.set_description(f'Test')\n",
    "        loop_test.set_postfix({\"test_loss\":test_loss_show.average.item()})\n",
    "print(\"=\" * 100)"
   ]
  },
  {
   "cell_type": "code",
   "execution_count": 8,
   "metadata": {},
   "outputs": [
    {
     "name": "stdout",
     "output_type": "stream",
     "text": [
      "R^2 =  0.9943519784868141\n",
      "====================================================================================================\n"
     ]
    }
   ],
   "source": [
    "prediction = torch.flatten(prediction).detach().numpy()\n",
    "label = torch.flatten(label).detach().numpy()\n",
    "R_square = goodness_of_fit(prediction, label)\n",
    "print(\"R^2 = \", R_square)\n",
    "print(\"=\" * 100)\n",
    "\n",
    "if not test:\n",
    "    torch.save(model.state_dict(), r\".\\logs\\model_state_dict_\" + data_path.split(\"/\")[1] + \"_\" + str(n_epoch) + \"_\" + time.strftime(\"%Y-%m-%d-%H-%M-%S\", time_now) + \".pth\")\n",
    "    torch.save(model, r\".\\logs\\model_\" + data_path.split(\"/\")[1] + \"_\" + str(n_epoch) + \"_\" +  time.strftime(\"%Y-%m-%d-%H-%M-%S\", time_now) + \".pth\")"
   ]
  },
  {
   "cell_type": "code",
   "execution_count": 9,
   "metadata": {},
   "outputs": [],
   "source": [
    "if residual_save:\n",
    "    result_mat = \"./results/result_prediction_label.mat\"\n",
    "    residual = prediction - label\n",
    "    print(max(residual), min(residual), np.mean(residual), np.std(residual))\n",
    "    sio.savemat(result_mat, {'prediction': prediction, 'label': label, 'residual': residual})"
   ]
  }
 ],
 "metadata": {
  "kernelspec": {
   "display_name": "pytorch",
   "language": "python",
   "name": "python3"
  },
  "language_info": {
   "codemirror_mode": {
    "name": "ipython",
    "version": 3
   },
   "file_extension": ".py",
   "mimetype": "text/x-python",
   "name": "python",
   "nbconvert_exporter": "python",
   "pygments_lexer": "ipython3",
   "version": "3.7.13"
  },
  "orig_nbformat": 4
 },
 "nbformat": 4,
 "nbformat_minor": 2
}
